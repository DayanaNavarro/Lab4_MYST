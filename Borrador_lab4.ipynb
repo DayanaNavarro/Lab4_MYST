{
 "cells": [
  {
   "cell_type": "code",
   "execution_count": 5,
   "metadata": {},
   "outputs": [
    {
     "name": "stderr",
     "output_type": "stream",
     "text": [
      "//anaconda3/lib/python3.7/site-packages/pandas/compat/_optional.py:138: UserWarning: Pandas requires version '2.7.0' or newer of 'numexpr' (version '2.6.9' currently installed).\n",
      "  warnings.warn(msg, UserWarning)\n"
     ]
    }
   ],
   "source": [
    "import ccxt\n",
    "import pandas as pd \n",
    "import numpy as np\n",
    "import plotly.graph_objects as go\n",
    "from datetime import datetime\n",
    "import collections"
   ]
  },
  {
   "cell_type": "markdown",
   "metadata": {},
   "source": [
    "# 1. Consumir datos de CCXT"
   ]
  },
  {
   "cell_type": "code",
   "execution_count": 9,
   "metadata": {},
   "outputs": [],
   "source": [
    "cryptos=['BTC/USDT','BTC/USDC','ETH/USDT']\n",
    "seconds=20\n",
    "limite=20\n",
    "exchanges=[ccxt.bitmart(),ccxt.bitforex(),ccxt.bibox()]"
   ]
  },
  {
   "cell_type": "code",
   "execution_count": 10,
   "metadata": {},
   "outputs": [],
   "source": [
    "def order_book(crypto,seconds,exchanges):\n",
    "    limite=20\n",
    "    now=exchanges[0].milliseconds ()\n",
    "    seconds=now - (seconds*1000) #20 segundos\n",
    "    ob1,ob2,ob3=[],[],[]\n",
    "    while seconds<now:#3600\n",
    "        ob1+=collections.ChainMap(exchanges[0].fetch_order_book(crypto,limit=limite)).maps\n",
    "        ob2+=collections.ChainMap(exchanges[1].fetch_order_book(crypto,limit=limite)).maps\n",
    "        ob3+=collections.ChainMap(exchanges[2].fetch_order_book(crypto,limit=limite)).maps\n",
    "        seconds+=1000\n",
    "    return ob1,ob2,ob3"
   ]
  },
  {
   "cell_type": "code",
   "execution_count": 11,
   "metadata": {},
   "outputs": [],
   "source": [
    "ob_c1=order_book(cryptos[0],seconds,exchanges)"
   ]
  },
  {
   "cell_type": "code",
   "execution_count": 5,
   "metadata": {},
   "outputs": [],
   "source": [
    "ob_c2=order_book(cryptos[1],seconds,exchanges)"
   ]
  },
  {
   "cell_type": "code",
   "execution_count": 6,
   "metadata": {},
   "outputs": [],
   "source": [
    "ob_c3=order_book(cryptos[2],seconds,exchanges)"
   ]
  },
  {
   "cell_type": "code",
   "execution_count": 7,
   "metadata": {},
   "outputs": [],
   "source": [
    "def times(exchanges,data):\n",
    "    exchange,times=[],[]\n",
    "    for i in range(len(exchanges)):\n",
    "        exchange.append([str(exchanges[i])]*seconds)\n",
    "        for j in range(seconds):\n",
    "            times.append(data[i][j]['datetime'])\n",
    "    return times"
   ]
  },
  {
   "cell_type": "code",
   "execution_count": 46,
   "metadata": {},
   "outputs": [],
   "source": [
    "def close_prices(exchanges,symbol,data,n):\n",
    "    seconds=20\n",
    "    time=times(exchanges,data)[seconds*n]\n",
    "    startDate=exchanges[n].parse8601(time)\n",
    "    ohlcv = exchanges[n].fetch_ohlcv(symbol, timeframe='1m', since=startDate,limit=20)\n",
    "    closes = [x[4] for x in ohlcv]\n",
    "    dates = [exchanges[n].iso8601 (x[0]) for x in ohlcv]\n",
    "    return closes,dates"
   ]
  },
  {
   "cell_type": "code",
   "execution_count": 47,
   "metadata": {
    "scrolled": true
   },
   "outputs": [],
   "source": [
    "c1m1=close_prices(exchanges,cryptos[0],ob_c1,0)\n",
    "c1m2=close_prices(exchanges,cryptos[0],ob_c1,1)\n",
    "c1m3=close_prices(exchanges,cryptos[0],ob_c1,2)\n",
    "\n",
    "c2m1=close_prices(exchanges,cryptos[1],ob_c2,0)\n",
    "c2m2=close_prices(exchanges,cryptos[1],ob_c2,1)\n",
    "c2m3=close_prices(exchanges,cryptos[1],ob_c2,2)\n",
    "\n",
    "c3m1=close_prices(exchanges,cryptos[2],ob_c3,0)\n",
    "c3m2=close_prices(exchanges,cryptos[2],ob_c3,1)\n",
    "c3m3=close_prices(exchanges,cryptos[2],ob_c3,2)"
   ]
  },
  {
   "cell_type": "markdown",
   "metadata": {},
   "source": [
    "## 1.2 Verificacion de avance"
   ]
  },
  {
   "cell_type": "code",
   "execution_count": 12,
   "metadata": {},
   "outputs": [],
   "source": [
    "d={'Exchange_1':{'Crypto1':ob_c1[0],\n",
    "                 'Closes':c1m1,\n",
    "                 'Crypto2':ob_c2[0],\n",
    "                 'Closes':c2m1,\n",
    "                 'Crypto3':ob_c3[0],\n",
    "                 'Closes':c3m1},\n",
    "  'Exchange_2':{'Crypto1':ob_c1[1],\n",
    "                 'Closes':c1m2,\n",
    "                 'Crypto2':ob_c2[1],\n",
    "                 'Closes':c2m2,\n",
    "                 'Crypto3':ob_c3[1],\n",
    "                 'Closes':c3m2},\n",
    "  'Exchange_3':{'Crypto1':ob_c1[2],\n",
    "                 'Closes':c1m3,\n",
    "                 'Crypto2':ob_c2[2],\n",
    "                 'Closes':c2m3,\n",
    "                 'Crypto3':ob_c3[2],\n",
    "                 'Closes':c3m3}}"
   ]
  },
  {
   "cell_type": "markdown",
   "metadata": {},
   "source": [
    "# 2. Visualizacion de microestructura"
   ]
  },
  {
   "cell_type": "markdown",
   "metadata": {},
   "source": [
    "## 2.2 Verificación de avance"
   ]
  },
  {
   "cell_type": "code",
   "execution_count": 13,
   "metadata": {},
   "outputs": [],
   "source": [
    "def verifavance2(data,limite,seconds,exchanges):\n",
    "    exchange,times=[],[]\n",
    "    ask_vol,bid_vol=[],[]\n",
    "    ask_voll,bid_voll=[],[]\n",
    "    mid,spread=[],[]\n",
    "    ask,bid=[],[]\n",
    "    c=0\n",
    "    df=pd.DataFrame(columns=['exchange','timeStamp','level','ask_volume','bid_volume','total_volume','mid_price','vwap'])\n",
    "    for i in range(len(exchanges)):\n",
    "        exchange.append([str(exchanges[i])]*seconds)\n",
    "        for j in range(seconds):\n",
    "            times.append(data[i][j]['datetime'])\n",
    "            mid.append((data[i][j]['bids'][0][0]+data[i][j]['asks'][0][0])/2)\n",
    "            for m in range(limite):\n",
    "                ask_vol.append(data[i][j]['asks'][m][1])\n",
    "                bid_vol.append(data[i][j]['bids'][m][1])\n",
    "                ask.append(data[i][j]['asks'][m][0])\n",
    "                bid.append(data[i][j]['bids'][m][0])\n",
    "            ask_voll.append(sum(ask_vol[c:c+limite]))\n",
    "            bid_voll.append(sum(bid_vol[c:c+limite]))\n",
    "            spread.append(np.mean(ask[c:c+limite])-np.mean(bid[c:c+limite]))\n",
    "            c+=limite\n",
    "    exchange=[exchange for exchanges in exchange for exchange in exchanges]\n",
    "    df['exchange']=exchange\n",
    "    df['timeStamp']=times\n",
    "    df['level']=limite\n",
    "    df['ask_volume']=ask_voll\n",
    "    df['bid_volume']=bid_voll\n",
    "    df['total_volume']=df['ask_volume']+df['bid_volume']\n",
    "    df['mid_price']=mid\n",
    "    df['vwap']=sum(spread*df['total_volume'])/df['total_volume']\n",
    "    return df"
   ]
  },
  {
   "cell_type": "code",
   "execution_count": 14,
   "metadata": {},
   "outputs": [],
   "source": [
    "vac1=verifavance2(ob_c1,limite,seconds,exchanges)\n",
    "vac2=verifavance2(ob_c2,limite,seconds,exchanges)\n",
    "vac3=verifavance2(ob_c3,limite,seconds,exchanges)"
   ]
  },
  {
   "cell_type": "code",
   "execution_count": 15,
   "metadata": {},
   "outputs": [
    {
     "data": {
      "text/html": [
       "<div>\n",
       "<style scoped>\n",
       "    .dataframe tbody tr th:only-of-type {\n",
       "        vertical-align: middle;\n",
       "    }\n",
       "\n",
       "    .dataframe tbody tr th {\n",
       "        vertical-align: top;\n",
       "    }\n",
       "\n",
       "    .dataframe thead th {\n",
       "        text-align: right;\n",
       "    }\n",
       "</style>\n",
       "<table border=\"1\" class=\"dataframe\">\n",
       "  <thead>\n",
       "    <tr style=\"text-align: right;\">\n",
       "      <th></th>\n",
       "      <th>exchange</th>\n",
       "      <th>timeStamp</th>\n",
       "      <th>level</th>\n",
       "      <th>ask_volume</th>\n",
       "      <th>bid_volume</th>\n",
       "      <th>total_volume</th>\n",
       "      <th>mid_price</th>\n",
       "      <th>vwap</th>\n",
       "    </tr>\n",
       "  </thead>\n",
       "  <tbody>\n",
       "    <tr>\n",
       "      <th>0</th>\n",
       "      <td>BitMart</td>\n",
       "      <td>2022-11-09T23:19:58.186Z</td>\n",
       "      <td>20</td>\n",
       "      <td>12.905229</td>\n",
       "      <td>15.617559</td>\n",
       "      <td>28.522788</td>\n",
       "      <td>15698.595</td>\n",
       "      <td>251995.231924</td>\n",
       "    </tr>\n",
       "    <tr>\n",
       "      <th>1</th>\n",
       "      <td>BitMart</td>\n",
       "      <td>2022-11-09T23:19:59.827Z</td>\n",
       "      <td>20</td>\n",
       "      <td>15.412788</td>\n",
       "      <td>14.588643</td>\n",
       "      <td>30.001431</td>\n",
       "      <td>15697.115</td>\n",
       "      <td>239575.458157</td>\n",
       "    </tr>\n",
       "    <tr>\n",
       "      <th>2</th>\n",
       "      <td>BitMart</td>\n",
       "      <td>2022-11-09T23:20:02.144Z</td>\n",
       "      <td>20</td>\n",
       "      <td>15.088346</td>\n",
       "      <td>6.543683</td>\n",
       "      <td>21.632029</td>\n",
       "      <td>15701.275</td>\n",
       "      <td>332266.870444</td>\n",
       "    </tr>\n",
       "    <tr>\n",
       "      <th>3</th>\n",
       "      <td>BitMart</td>\n",
       "      <td>2022-11-09T23:20:04.730Z</td>\n",
       "      <td>20</td>\n",
       "      <td>15.807282</td>\n",
       "      <td>15.592177</td>\n",
       "      <td>31.399459</td>\n",
       "      <td>15697.675</td>\n",
       "      <td>228908.611998</td>\n",
       "    </tr>\n",
       "    <tr>\n",
       "      <th>4</th>\n",
       "      <td>BitMart</td>\n",
       "      <td>2022-11-09T23:20:05.890Z</td>\n",
       "      <td>20</td>\n",
       "      <td>12.821573</td>\n",
       "      <td>11.531668</td>\n",
       "      <td>24.353241</td>\n",
       "      <td>15693.460</td>\n",
       "      <td>295139.631608</td>\n",
       "    </tr>\n",
       "  </tbody>\n",
       "</table>\n",
       "</div>"
      ],
      "text/plain": [
       "  exchange                 timeStamp  level  ask_volume  bid_volume  \\\n",
       "0  BitMart  2022-11-09T23:19:58.186Z     20   12.905229   15.617559   \n",
       "1  BitMart  2022-11-09T23:19:59.827Z     20   15.412788   14.588643   \n",
       "2  BitMart  2022-11-09T23:20:02.144Z     20   15.088346    6.543683   \n",
       "3  BitMart  2022-11-09T23:20:04.730Z     20   15.807282   15.592177   \n",
       "4  BitMart  2022-11-09T23:20:05.890Z     20   12.821573   11.531668   \n",
       "\n",
       "   total_volume  mid_price           vwap  \n",
       "0     28.522788  15698.595  251995.231924  \n",
       "1     30.001431  15697.115  239575.458157  \n",
       "2     21.632029  15701.275  332266.870444  \n",
       "3     31.399459  15697.675  228908.611998  \n",
       "4     24.353241  15693.460  295139.631608  "
      ]
     },
     "execution_count": 15,
     "metadata": {},
     "output_type": "execute_result"
    }
   ],
   "source": [
    "vac2.head()"
   ]
  },
  {
   "cell_type": "markdown",
   "metadata": {},
   "source": [
    "## 2.4 Visualizaciones"
   ]
  },
  {
   "cell_type": "code",
   "execution_count": 16,
   "metadata": {},
   "outputs": [],
   "source": [
    "def visualization(data,crypto):\n",
    "    d1=data[data['exchange']==str(exchanges[0])]\n",
    "    d2=data[data['exchange']==str(exchanges[1])]\n",
    "    d3=data[data['exchange']==str(exchanges[2])]\n",
    "    fig = go.Figure(layout=dict(title=dict(text=crypto+\" Mid Price\")))\n",
    "    fig.add_trace(go.Scatter(x=d1['timeStamp'], y=d1['mid_price'],\n",
    "                        mode='lines',name=str(exchanges[0])+' '+crypto+': MidPrice',line=dict(color='skyblue')))\n",
    "    fig.add_trace(go.Scatter(x=d2['timeStamp'], y=d2['mid_price'],\n",
    "                        mode='lines',name=str(exchanges[1])+' '+crypto+': MidPrice',line=dict(color='lightsalmon')))\n",
    "    fig.add_trace(go.Scatter(x=d3['timeStamp'], y=d3['mid_price'],\n",
    "                        mode='lines',name=str(exchanges[2])+' '+crypto+': MidPrice',line=dict(color='lawngreen')))\n",
    "    fig.update_xaxes(\n",
    "            title_text = \"TimeStamp\",\n",
    "            title_standoff = 25)\n",
    "\n",
    "    fig.update_yaxes(\n",
    "            title_text = \"MidPrice\",\n",
    "            title_standoff = 25)\n",
    "    return fig.show()"
   ]
  },
  {
   "cell_type": "code",
   "execution_count": 20,
   "metadata": {
    "scrolled": true
   },
   "outputs": [
    {
     "data": {
      "application/vnd.plotly.v1+json": {
       "config": {
        "plotlyServerURL": "https://plot.ly"
       },
       "data": [
        {
         "line": {
          "color": "skyblue"
         },
         "mode": "lines",
         "name": "BitMart BTC/USDT: MidPrice",
         "type": "scatter",
         "x": [
          "2022-11-09T23:19:15.789Z",
          "2022-11-09T23:19:19.766Z",
          "2022-11-09T23:19:20.647Z",
          "2022-11-09T23:19:22.697Z",
          "2022-11-09T23:19:25.454Z",
          "2022-11-09T23:19:27.853Z",
          "2022-11-09T23:19:29.339Z",
          "2022-11-09T23:19:30.795Z",
          "2022-11-09T23:19:33.390Z",
          "2022-11-09T23:19:34.758Z",
          "2022-11-09T23:19:36.806Z",
          "2022-11-09T23:19:40.135Z",
          "2022-11-09T23:19:41.061Z",
          "2022-11-09T23:19:44.789Z",
          "2022-11-09T23:19:46.056Z",
          "2022-11-09T23:19:47.697Z",
          "2022-11-09T23:19:49.711Z",
          "2022-11-09T23:19:52.025Z",
          "2022-11-09T23:19:53.748Z",
          "2022-11-09T23:19:56.497Z"
         ],
         "y": [
          15708.02,
          15723.41,
          15723.125,
          15721.98,
          15713.665,
          15712.085,
          15714.29,
          15714.994999999999,
          15727.67,
          15710.795,
          15712.3,
          15710.08,
          15712.43,
          15735.51,
          15736.865,
          15736.575,
          15728.904999999999,
          15724.885,
          15728.71,
          15723.99
         ]
        },
        {
         "line": {
          "color": "lightsalmon"
         },
         "mode": "lines",
         "name": "Bitforex BTC/USDT: MidPrice",
         "type": "scatter",
         "x": [
          "2022-11-09T23:19:18.065Z",
          "2022-11-09T23:19:20.068Z",
          "2022-11-09T23:19:22.075Z",
          "2022-11-09T23:19:24.835Z",
          "2022-11-09T23:19:26.081Z",
          "2022-11-09T23:19:28.124Z",
          "2022-11-09T23:19:30.150Z",
          "2022-11-09T23:19:32.153Z",
          "2022-11-09T23:19:34.144Z",
          "2022-11-09T23:19:36.171Z",
          "2022-11-09T23:19:38.158Z",
          "2022-11-09T23:19:40.449Z",
          "2022-11-09T23:19:42.469Z",
          "2022-11-09T23:19:45.079Z",
          "2022-11-09T23:19:47.090Z",
          "2022-11-09T23:19:49.075Z",
          "2022-11-09T23:19:51.102Z",
          "2022-11-09T23:19:53.137Z",
          "2022-11-09T23:19:55.098Z",
          "2022-11-09T23:19:57.100Z"
         ],
         "y": [
          15709.130000000001,
          15709.130000000001,
          15723.425,
          15723.425,
          15723.425,
          15716.3,
          15716.3,
          15713.145,
          15713.145,
          15709.630000000001,
          15709.630000000001,
          15709.630000000001,
          15710.855,
          15710.855,
          15739.404999999999,
          15739.404999999999,
          15721.365000000002,
          15721.365000000002,
          15721.365000000002,
          15721.365000000002
         ]
        },
        {
         "line": {
          "color": "lawngreen"
         },
         "mode": "lines",
         "name": "Bibox BTC/USDT: MidPrice",
         "type": "scatter",
         "x": [
          "2022-11-09T23:19:19.188Z",
          "2022-11-09T23:19:20.117Z",
          "2022-11-09T23:19:22.314Z",
          "2022-11-09T23:19:25.109Z",
          "2022-11-09T23:19:26.347Z",
          "2022-11-09T23:19:28.220Z",
          "2022-11-09T23:19:30.419Z",
          "2022-11-09T23:19:32.305Z",
          "2022-11-09T23:19:34.178Z",
          "2022-11-09T23:19:36.348Z",
          "2022-11-09T23:19:39.000Z",
          "2022-11-09T23:19:40.733Z",
          "2022-11-09T23:19:42.593Z",
          "2022-11-09T23:19:45.097Z",
          "2022-11-09T23:19:47.295Z",
          "2022-11-09T23:19:49.169Z",
          "2022-11-09T23:19:51.359Z",
          "2022-11-09T23:19:53.234Z",
          "2022-11-09T23:19:55.743Z",
          "2022-11-09T23:19:57.321Z"
         ],
         "y": [
          15736.8,
          15734.25,
          15730.4,
          15724.2,
          15723.65,
          15722.95,
          15735.05,
          15734.849999999999,
          15714.6,
          15722.1,
          15723.2,
          15723.400000000001,
          15729.349999999999,
          15747.349999999999,
          15739.05,
          15737.05,
          15732.55,
          15740.25,
          15735.25,
          15732.15
         ]
        }
       ],
       "layout": {
        "template": {
         "data": {
          "bar": [
           {
            "error_x": {
             "color": "#2a3f5f"
            },
            "error_y": {
             "color": "#2a3f5f"
            },
            "marker": {
             "line": {
              "color": "#E5ECF6",
              "width": 0.5
             },
             "pattern": {
              "fillmode": "overlay",
              "size": 10,
              "solidity": 0.2
             }
            },
            "type": "bar"
           }
          ],
          "barpolar": [
           {
            "marker": {
             "line": {
              "color": "#E5ECF6",
              "width": 0.5
             },
             "pattern": {
              "fillmode": "overlay",
              "size": 10,
              "solidity": 0.2
             }
            },
            "type": "barpolar"
           }
          ],
          "carpet": [
           {
            "aaxis": {
             "endlinecolor": "#2a3f5f",
             "gridcolor": "white",
             "linecolor": "white",
             "minorgridcolor": "white",
             "startlinecolor": "#2a3f5f"
            },
            "baxis": {
             "endlinecolor": "#2a3f5f",
             "gridcolor": "white",
             "linecolor": "white",
             "minorgridcolor": "white",
             "startlinecolor": "#2a3f5f"
            },
            "type": "carpet"
           }
          ],
          "choropleth": [
           {
            "colorbar": {
             "outlinewidth": 0,
             "ticks": ""
            },
            "type": "choropleth"
           }
          ],
          "contour": [
           {
            "colorbar": {
             "outlinewidth": 0,
             "ticks": ""
            },
            "colorscale": [
             [
              0,
              "#0d0887"
             ],
             [
              0.1111111111111111,
              "#46039f"
             ],
             [
              0.2222222222222222,
              "#7201a8"
             ],
             [
              0.3333333333333333,
              "#9c179e"
             ],
             [
              0.4444444444444444,
              "#bd3786"
             ],
             [
              0.5555555555555556,
              "#d8576b"
             ],
             [
              0.6666666666666666,
              "#ed7953"
             ],
             [
              0.7777777777777778,
              "#fb9f3a"
             ],
             [
              0.8888888888888888,
              "#fdca26"
             ],
             [
              1,
              "#f0f921"
             ]
            ],
            "type": "contour"
           }
          ],
          "contourcarpet": [
           {
            "colorbar": {
             "outlinewidth": 0,
             "ticks": ""
            },
            "type": "contourcarpet"
           }
          ],
          "heatmap": [
           {
            "colorbar": {
             "outlinewidth": 0,
             "ticks": ""
            },
            "colorscale": [
             [
              0,
              "#0d0887"
             ],
             [
              0.1111111111111111,
              "#46039f"
             ],
             [
              0.2222222222222222,
              "#7201a8"
             ],
             [
              0.3333333333333333,
              "#9c179e"
             ],
             [
              0.4444444444444444,
              "#bd3786"
             ],
             [
              0.5555555555555556,
              "#d8576b"
             ],
             [
              0.6666666666666666,
              "#ed7953"
             ],
             [
              0.7777777777777778,
              "#fb9f3a"
             ],
             [
              0.8888888888888888,
              "#fdca26"
             ],
             [
              1,
              "#f0f921"
             ]
            ],
            "type": "heatmap"
           }
          ],
          "heatmapgl": [
           {
            "colorbar": {
             "outlinewidth": 0,
             "ticks": ""
            },
            "colorscale": [
             [
              0,
              "#0d0887"
             ],
             [
              0.1111111111111111,
              "#46039f"
             ],
             [
              0.2222222222222222,
              "#7201a8"
             ],
             [
              0.3333333333333333,
              "#9c179e"
             ],
             [
              0.4444444444444444,
              "#bd3786"
             ],
             [
              0.5555555555555556,
              "#d8576b"
             ],
             [
              0.6666666666666666,
              "#ed7953"
             ],
             [
              0.7777777777777778,
              "#fb9f3a"
             ],
             [
              0.8888888888888888,
              "#fdca26"
             ],
             [
              1,
              "#f0f921"
             ]
            ],
            "type": "heatmapgl"
           }
          ],
          "histogram": [
           {
            "marker": {
             "pattern": {
              "fillmode": "overlay",
              "size": 10,
              "solidity": 0.2
             }
            },
            "type": "histogram"
           }
          ],
          "histogram2d": [
           {
            "colorbar": {
             "outlinewidth": 0,
             "ticks": ""
            },
            "colorscale": [
             [
              0,
              "#0d0887"
             ],
             [
              0.1111111111111111,
              "#46039f"
             ],
             [
              0.2222222222222222,
              "#7201a8"
             ],
             [
              0.3333333333333333,
              "#9c179e"
             ],
             [
              0.4444444444444444,
              "#bd3786"
             ],
             [
              0.5555555555555556,
              "#d8576b"
             ],
             [
              0.6666666666666666,
              "#ed7953"
             ],
             [
              0.7777777777777778,
              "#fb9f3a"
             ],
             [
              0.8888888888888888,
              "#fdca26"
             ],
             [
              1,
              "#f0f921"
             ]
            ],
            "type": "histogram2d"
           }
          ],
          "histogram2dcontour": [
           {
            "colorbar": {
             "outlinewidth": 0,
             "ticks": ""
            },
            "colorscale": [
             [
              0,
              "#0d0887"
             ],
             [
              0.1111111111111111,
              "#46039f"
             ],
             [
              0.2222222222222222,
              "#7201a8"
             ],
             [
              0.3333333333333333,
              "#9c179e"
             ],
             [
              0.4444444444444444,
              "#bd3786"
             ],
             [
              0.5555555555555556,
              "#d8576b"
             ],
             [
              0.6666666666666666,
              "#ed7953"
             ],
             [
              0.7777777777777778,
              "#fb9f3a"
             ],
             [
              0.8888888888888888,
              "#fdca26"
             ],
             [
              1,
              "#f0f921"
             ]
            ],
            "type": "histogram2dcontour"
           }
          ],
          "mesh3d": [
           {
            "colorbar": {
             "outlinewidth": 0,
             "ticks": ""
            },
            "type": "mesh3d"
           }
          ],
          "parcoords": [
           {
            "line": {
             "colorbar": {
              "outlinewidth": 0,
              "ticks": ""
             }
            },
            "type": "parcoords"
           }
          ],
          "pie": [
           {
            "automargin": true,
            "type": "pie"
           }
          ],
          "scatter": [
           {
            "fillpattern": {
             "fillmode": "overlay",
             "size": 10,
             "solidity": 0.2
            },
            "type": "scatter"
           }
          ],
          "scatter3d": [
           {
            "line": {
             "colorbar": {
              "outlinewidth": 0,
              "ticks": ""
             }
            },
            "marker": {
             "colorbar": {
              "outlinewidth": 0,
              "ticks": ""
             }
            },
            "type": "scatter3d"
           }
          ],
          "scattercarpet": [
           {
            "marker": {
             "colorbar": {
              "outlinewidth": 0,
              "ticks": ""
             }
            },
            "type": "scattercarpet"
           }
          ],
          "scattergeo": [
           {
            "marker": {
             "colorbar": {
              "outlinewidth": 0,
              "ticks": ""
             }
            },
            "type": "scattergeo"
           }
          ],
          "scattergl": [
           {
            "marker": {
             "colorbar": {
              "outlinewidth": 0,
              "ticks": ""
             }
            },
            "type": "scattergl"
           }
          ],
          "scattermapbox": [
           {
            "marker": {
             "colorbar": {
              "outlinewidth": 0,
              "ticks": ""
             }
            },
            "type": "scattermapbox"
           }
          ],
          "scatterpolar": [
           {
            "marker": {
             "colorbar": {
              "outlinewidth": 0,
              "ticks": ""
             }
            },
            "type": "scatterpolar"
           }
          ],
          "scatterpolargl": [
           {
            "marker": {
             "colorbar": {
              "outlinewidth": 0,
              "ticks": ""
             }
            },
            "type": "scatterpolargl"
           }
          ],
          "scatterternary": [
           {
            "marker": {
             "colorbar": {
              "outlinewidth": 0,
              "ticks": ""
             }
            },
            "type": "scatterternary"
           }
          ],
          "surface": [
           {
            "colorbar": {
             "outlinewidth": 0,
             "ticks": ""
            },
            "colorscale": [
             [
              0,
              "#0d0887"
             ],
             [
              0.1111111111111111,
              "#46039f"
             ],
             [
              0.2222222222222222,
              "#7201a8"
             ],
             [
              0.3333333333333333,
              "#9c179e"
             ],
             [
              0.4444444444444444,
              "#bd3786"
             ],
             [
              0.5555555555555556,
              "#d8576b"
             ],
             [
              0.6666666666666666,
              "#ed7953"
             ],
             [
              0.7777777777777778,
              "#fb9f3a"
             ],
             [
              0.8888888888888888,
              "#fdca26"
             ],
             [
              1,
              "#f0f921"
             ]
            ],
            "type": "surface"
           }
          ],
          "table": [
           {
            "cells": {
             "fill": {
              "color": "#EBF0F8"
             },
             "line": {
              "color": "white"
             }
            },
            "header": {
             "fill": {
              "color": "#C8D4E3"
             },
             "line": {
              "color": "white"
             }
            },
            "type": "table"
           }
          ]
         },
         "layout": {
          "annotationdefaults": {
           "arrowcolor": "#2a3f5f",
           "arrowhead": 0,
           "arrowwidth": 1
          },
          "autotypenumbers": "strict",
          "coloraxis": {
           "colorbar": {
            "outlinewidth": 0,
            "ticks": ""
           }
          },
          "colorscale": {
           "diverging": [
            [
             0,
             "#8e0152"
            ],
            [
             0.1,
             "#c51b7d"
            ],
            [
             0.2,
             "#de77ae"
            ],
            [
             0.3,
             "#f1b6da"
            ],
            [
             0.4,
             "#fde0ef"
            ],
            [
             0.5,
             "#f7f7f7"
            ],
            [
             0.6,
             "#e6f5d0"
            ],
            [
             0.7,
             "#b8e186"
            ],
            [
             0.8,
             "#7fbc41"
            ],
            [
             0.9,
             "#4d9221"
            ],
            [
             1,
             "#276419"
            ]
           ],
           "sequential": [
            [
             0,
             "#0d0887"
            ],
            [
             0.1111111111111111,
             "#46039f"
            ],
            [
             0.2222222222222222,
             "#7201a8"
            ],
            [
             0.3333333333333333,
             "#9c179e"
            ],
            [
             0.4444444444444444,
             "#bd3786"
            ],
            [
             0.5555555555555556,
             "#d8576b"
            ],
            [
             0.6666666666666666,
             "#ed7953"
            ],
            [
             0.7777777777777778,
             "#fb9f3a"
            ],
            [
             0.8888888888888888,
             "#fdca26"
            ],
            [
             1,
             "#f0f921"
            ]
           ],
           "sequentialminus": [
            [
             0,
             "#0d0887"
            ],
            [
             0.1111111111111111,
             "#46039f"
            ],
            [
             0.2222222222222222,
             "#7201a8"
            ],
            [
             0.3333333333333333,
             "#9c179e"
            ],
            [
             0.4444444444444444,
             "#bd3786"
            ],
            [
             0.5555555555555556,
             "#d8576b"
            ],
            [
             0.6666666666666666,
             "#ed7953"
            ],
            [
             0.7777777777777778,
             "#fb9f3a"
            ],
            [
             0.8888888888888888,
             "#fdca26"
            ],
            [
             1,
             "#f0f921"
            ]
           ]
          },
          "colorway": [
           "#636efa",
           "#EF553B",
           "#00cc96",
           "#ab63fa",
           "#FFA15A",
           "#19d3f3",
           "#FF6692",
           "#B6E880",
           "#FF97FF",
           "#FECB52"
          ],
          "font": {
           "color": "#2a3f5f"
          },
          "geo": {
           "bgcolor": "white",
           "lakecolor": "white",
           "landcolor": "#E5ECF6",
           "showlakes": true,
           "showland": true,
           "subunitcolor": "white"
          },
          "hoverlabel": {
           "align": "left"
          },
          "hovermode": "closest",
          "mapbox": {
           "style": "light"
          },
          "paper_bgcolor": "white",
          "plot_bgcolor": "#E5ECF6",
          "polar": {
           "angularaxis": {
            "gridcolor": "white",
            "linecolor": "white",
            "ticks": ""
           },
           "bgcolor": "#E5ECF6",
           "radialaxis": {
            "gridcolor": "white",
            "linecolor": "white",
            "ticks": ""
           }
          },
          "scene": {
           "xaxis": {
            "backgroundcolor": "#E5ECF6",
            "gridcolor": "white",
            "gridwidth": 2,
            "linecolor": "white",
            "showbackground": true,
            "ticks": "",
            "zerolinecolor": "white"
           },
           "yaxis": {
            "backgroundcolor": "#E5ECF6",
            "gridcolor": "white",
            "gridwidth": 2,
            "linecolor": "white",
            "showbackground": true,
            "ticks": "",
            "zerolinecolor": "white"
           },
           "zaxis": {
            "backgroundcolor": "#E5ECF6",
            "gridcolor": "white",
            "gridwidth": 2,
            "linecolor": "white",
            "showbackground": true,
            "ticks": "",
            "zerolinecolor": "white"
           }
          },
          "shapedefaults": {
           "line": {
            "color": "#2a3f5f"
           }
          },
          "ternary": {
           "aaxis": {
            "gridcolor": "white",
            "linecolor": "white",
            "ticks": ""
           },
           "baxis": {
            "gridcolor": "white",
            "linecolor": "white",
            "ticks": ""
           },
           "bgcolor": "#E5ECF6",
           "caxis": {
            "gridcolor": "white",
            "linecolor": "white",
            "ticks": ""
           }
          },
          "title": {
           "x": 0.05
          },
          "xaxis": {
           "automargin": true,
           "gridcolor": "white",
           "linecolor": "white",
           "ticks": "",
           "title": {
            "standoff": 15
           },
           "zerolinecolor": "white",
           "zerolinewidth": 2
          },
          "yaxis": {
           "automargin": true,
           "gridcolor": "white",
           "linecolor": "white",
           "ticks": "",
           "title": {
            "standoff": 15
           },
           "zerolinecolor": "white",
           "zerolinewidth": 2
          }
         }
        },
        "title": {
         "text": "BTC/USDT Mid Price"
        },
        "xaxis": {
         "title": {
          "standoff": 25,
          "text": "TimeStamp"
         }
        },
        "yaxis": {
         "title": {
          "standoff": 25,
          "text": "MidPrice"
         }
        }
       }
      },
      "text/html": [
       "<div>                            <div id=\"07fdae60-ce08-4606-8a19-975aa119b6ca\" class=\"plotly-graph-div\" style=\"height:525px; width:100%;\"></div>            <script type=\"text/javascript\">                require([\"plotly\"], function(Plotly) {                    window.PLOTLYENV=window.PLOTLYENV || {};                                    if (document.getElementById(\"07fdae60-ce08-4606-8a19-975aa119b6ca\")) {                    Plotly.newPlot(                        \"07fdae60-ce08-4606-8a19-975aa119b6ca\",                        [{\"line\":{\"color\":\"skyblue\"},\"mode\":\"lines\",\"name\":\"BitMart BTC/USDT: MidPrice\",\"x\":[\"2022-11-09T23:19:15.789Z\",\"2022-11-09T23:19:19.766Z\",\"2022-11-09T23:19:20.647Z\",\"2022-11-09T23:19:22.697Z\",\"2022-11-09T23:19:25.454Z\",\"2022-11-09T23:19:27.853Z\",\"2022-11-09T23:19:29.339Z\",\"2022-11-09T23:19:30.795Z\",\"2022-11-09T23:19:33.390Z\",\"2022-11-09T23:19:34.758Z\",\"2022-11-09T23:19:36.806Z\",\"2022-11-09T23:19:40.135Z\",\"2022-11-09T23:19:41.061Z\",\"2022-11-09T23:19:44.789Z\",\"2022-11-09T23:19:46.056Z\",\"2022-11-09T23:19:47.697Z\",\"2022-11-09T23:19:49.711Z\",\"2022-11-09T23:19:52.025Z\",\"2022-11-09T23:19:53.748Z\",\"2022-11-09T23:19:56.497Z\"],\"y\":[15708.02,15723.41,15723.125,15721.98,15713.665,15712.085,15714.29,15714.994999999999,15727.67,15710.795,15712.3,15710.08,15712.43,15735.51,15736.865,15736.575,15728.904999999999,15724.885,15728.71,15723.99],\"type\":\"scatter\"},{\"line\":{\"color\":\"lightsalmon\"},\"mode\":\"lines\",\"name\":\"Bitforex BTC/USDT: MidPrice\",\"x\":[\"2022-11-09T23:19:18.065Z\",\"2022-11-09T23:19:20.068Z\",\"2022-11-09T23:19:22.075Z\",\"2022-11-09T23:19:24.835Z\",\"2022-11-09T23:19:26.081Z\",\"2022-11-09T23:19:28.124Z\",\"2022-11-09T23:19:30.150Z\",\"2022-11-09T23:19:32.153Z\",\"2022-11-09T23:19:34.144Z\",\"2022-11-09T23:19:36.171Z\",\"2022-11-09T23:19:38.158Z\",\"2022-11-09T23:19:40.449Z\",\"2022-11-09T23:19:42.469Z\",\"2022-11-09T23:19:45.079Z\",\"2022-11-09T23:19:47.090Z\",\"2022-11-09T23:19:49.075Z\",\"2022-11-09T23:19:51.102Z\",\"2022-11-09T23:19:53.137Z\",\"2022-11-09T23:19:55.098Z\",\"2022-11-09T23:19:57.100Z\"],\"y\":[15709.130000000001,15709.130000000001,15723.425,15723.425,15723.425,15716.3,15716.3,15713.145,15713.145,15709.630000000001,15709.630000000001,15709.630000000001,15710.855,15710.855,15739.404999999999,15739.404999999999,15721.365000000002,15721.365000000002,15721.365000000002,15721.365000000002],\"type\":\"scatter\"},{\"line\":{\"color\":\"lawngreen\"},\"mode\":\"lines\",\"name\":\"Bibox BTC/USDT: MidPrice\",\"x\":[\"2022-11-09T23:19:19.188Z\",\"2022-11-09T23:19:20.117Z\",\"2022-11-09T23:19:22.314Z\",\"2022-11-09T23:19:25.109Z\",\"2022-11-09T23:19:26.347Z\",\"2022-11-09T23:19:28.220Z\",\"2022-11-09T23:19:30.419Z\",\"2022-11-09T23:19:32.305Z\",\"2022-11-09T23:19:34.178Z\",\"2022-11-09T23:19:36.348Z\",\"2022-11-09T23:19:39.000Z\",\"2022-11-09T23:19:40.733Z\",\"2022-11-09T23:19:42.593Z\",\"2022-11-09T23:19:45.097Z\",\"2022-11-09T23:19:47.295Z\",\"2022-11-09T23:19:49.169Z\",\"2022-11-09T23:19:51.359Z\",\"2022-11-09T23:19:53.234Z\",\"2022-11-09T23:19:55.743Z\",\"2022-11-09T23:19:57.321Z\"],\"y\":[15736.8,15734.25,15730.4,15724.2,15723.65,15722.95,15735.05,15734.849999999999,15714.6,15722.1,15723.2,15723.400000000001,15729.349999999999,15747.349999999999,15739.05,15737.05,15732.55,15740.25,15735.25,15732.15],\"type\":\"scatter\"}],                        {\"title\":{\"text\":\"BTC/USDT Mid Price\"},\"template\":{\"data\":{\"histogram2dcontour\":[{\"type\":\"histogram2dcontour\",\"colorbar\":{\"outlinewidth\":0,\"ticks\":\"\"},\"colorscale\":[[0.0,\"#0d0887\"],[0.1111111111111111,\"#46039f\"],[0.2222222222222222,\"#7201a8\"],[0.3333333333333333,\"#9c179e\"],[0.4444444444444444,\"#bd3786\"],[0.5555555555555556,\"#d8576b\"],[0.6666666666666666,\"#ed7953\"],[0.7777777777777778,\"#fb9f3a\"],[0.8888888888888888,\"#fdca26\"],[1.0,\"#f0f921\"]]}],\"choropleth\":[{\"type\":\"choropleth\",\"colorbar\":{\"outlinewidth\":0,\"ticks\":\"\"}}],\"histogram2d\":[{\"type\":\"histogram2d\",\"colorbar\":{\"outlinewidth\":0,\"ticks\":\"\"},\"colorscale\":[[0.0,\"#0d0887\"],[0.1111111111111111,\"#46039f\"],[0.2222222222222222,\"#7201a8\"],[0.3333333333333333,\"#9c179e\"],[0.4444444444444444,\"#bd3786\"],[0.5555555555555556,\"#d8576b\"],[0.6666666666666666,\"#ed7953\"],[0.7777777777777778,\"#fb9f3a\"],[0.8888888888888888,\"#fdca26\"],[1.0,\"#f0f921\"]]}],\"heatmap\":[{\"type\":\"heatmap\",\"colorbar\":{\"outlinewidth\":0,\"ticks\":\"\"},\"colorscale\":[[0.0,\"#0d0887\"],[0.1111111111111111,\"#46039f\"],[0.2222222222222222,\"#7201a8\"],[0.3333333333333333,\"#9c179e\"],[0.4444444444444444,\"#bd3786\"],[0.5555555555555556,\"#d8576b\"],[0.6666666666666666,\"#ed7953\"],[0.7777777777777778,\"#fb9f3a\"],[0.8888888888888888,\"#fdca26\"],[1.0,\"#f0f921\"]]}],\"heatmapgl\":[{\"type\":\"heatmapgl\",\"colorbar\":{\"outlinewidth\":0,\"ticks\":\"\"},\"colorscale\":[[0.0,\"#0d0887\"],[0.1111111111111111,\"#46039f\"],[0.2222222222222222,\"#7201a8\"],[0.3333333333333333,\"#9c179e\"],[0.4444444444444444,\"#bd3786\"],[0.5555555555555556,\"#d8576b\"],[0.6666666666666666,\"#ed7953\"],[0.7777777777777778,\"#fb9f3a\"],[0.8888888888888888,\"#fdca26\"],[1.0,\"#f0f921\"]]}],\"contourcarpet\":[{\"type\":\"contourcarpet\",\"colorbar\":{\"outlinewidth\":0,\"ticks\":\"\"}}],\"contour\":[{\"type\":\"contour\",\"colorbar\":{\"outlinewidth\":0,\"ticks\":\"\"},\"colorscale\":[[0.0,\"#0d0887\"],[0.1111111111111111,\"#46039f\"],[0.2222222222222222,\"#7201a8\"],[0.3333333333333333,\"#9c179e\"],[0.4444444444444444,\"#bd3786\"],[0.5555555555555556,\"#d8576b\"],[0.6666666666666666,\"#ed7953\"],[0.7777777777777778,\"#fb9f3a\"],[0.8888888888888888,\"#fdca26\"],[1.0,\"#f0f921\"]]}],\"surface\":[{\"type\":\"surface\",\"colorbar\":{\"outlinewidth\":0,\"ticks\":\"\"},\"colorscale\":[[0.0,\"#0d0887\"],[0.1111111111111111,\"#46039f\"],[0.2222222222222222,\"#7201a8\"],[0.3333333333333333,\"#9c179e\"],[0.4444444444444444,\"#bd3786\"],[0.5555555555555556,\"#d8576b\"],[0.6666666666666666,\"#ed7953\"],[0.7777777777777778,\"#fb9f3a\"],[0.8888888888888888,\"#fdca26\"],[1.0,\"#f0f921\"]]}],\"mesh3d\":[{\"type\":\"mesh3d\",\"colorbar\":{\"outlinewidth\":0,\"ticks\":\"\"}}],\"scatter\":[{\"fillpattern\":{\"fillmode\":\"overlay\",\"size\":10,\"solidity\":0.2},\"type\":\"scatter\"}],\"parcoords\":[{\"type\":\"parcoords\",\"line\":{\"colorbar\":{\"outlinewidth\":0,\"ticks\":\"\"}}}],\"scatterpolargl\":[{\"type\":\"scatterpolargl\",\"marker\":{\"colorbar\":{\"outlinewidth\":0,\"ticks\":\"\"}}}],\"bar\":[{\"error_x\":{\"color\":\"#2a3f5f\"},\"error_y\":{\"color\":\"#2a3f5f\"},\"marker\":{\"line\":{\"color\":\"#E5ECF6\",\"width\":0.5},\"pattern\":{\"fillmode\":\"overlay\",\"size\":10,\"solidity\":0.2}},\"type\":\"bar\"}],\"scattergeo\":[{\"type\":\"scattergeo\",\"marker\":{\"colorbar\":{\"outlinewidth\":0,\"ticks\":\"\"}}}],\"scatterpolar\":[{\"type\":\"scatterpolar\",\"marker\":{\"colorbar\":{\"outlinewidth\":0,\"ticks\":\"\"}}}],\"histogram\":[{\"marker\":{\"pattern\":{\"fillmode\":\"overlay\",\"size\":10,\"solidity\":0.2}},\"type\":\"histogram\"}],\"scattergl\":[{\"type\":\"scattergl\",\"marker\":{\"colorbar\":{\"outlinewidth\":0,\"ticks\":\"\"}}}],\"scatter3d\":[{\"type\":\"scatter3d\",\"line\":{\"colorbar\":{\"outlinewidth\":0,\"ticks\":\"\"}},\"marker\":{\"colorbar\":{\"outlinewidth\":0,\"ticks\":\"\"}}}],\"scattermapbox\":[{\"type\":\"scattermapbox\",\"marker\":{\"colorbar\":{\"outlinewidth\":0,\"ticks\":\"\"}}}],\"scatterternary\":[{\"type\":\"scatterternary\",\"marker\":{\"colorbar\":{\"outlinewidth\":0,\"ticks\":\"\"}}}],\"scattercarpet\":[{\"type\":\"scattercarpet\",\"marker\":{\"colorbar\":{\"outlinewidth\":0,\"ticks\":\"\"}}}],\"carpet\":[{\"aaxis\":{\"endlinecolor\":\"#2a3f5f\",\"gridcolor\":\"white\",\"linecolor\":\"white\",\"minorgridcolor\":\"white\",\"startlinecolor\":\"#2a3f5f\"},\"baxis\":{\"endlinecolor\":\"#2a3f5f\",\"gridcolor\":\"white\",\"linecolor\":\"white\",\"minorgridcolor\":\"white\",\"startlinecolor\":\"#2a3f5f\"},\"type\":\"carpet\"}],\"table\":[{\"cells\":{\"fill\":{\"color\":\"#EBF0F8\"},\"line\":{\"color\":\"white\"}},\"header\":{\"fill\":{\"color\":\"#C8D4E3\"},\"line\":{\"color\":\"white\"}},\"type\":\"table\"}],\"barpolar\":[{\"marker\":{\"line\":{\"color\":\"#E5ECF6\",\"width\":0.5},\"pattern\":{\"fillmode\":\"overlay\",\"size\":10,\"solidity\":0.2}},\"type\":\"barpolar\"}],\"pie\":[{\"automargin\":true,\"type\":\"pie\"}]},\"layout\":{\"autotypenumbers\":\"strict\",\"colorway\":[\"#636efa\",\"#EF553B\",\"#00cc96\",\"#ab63fa\",\"#FFA15A\",\"#19d3f3\",\"#FF6692\",\"#B6E880\",\"#FF97FF\",\"#FECB52\"],\"font\":{\"color\":\"#2a3f5f\"},\"hovermode\":\"closest\",\"hoverlabel\":{\"align\":\"left\"},\"paper_bgcolor\":\"white\",\"plot_bgcolor\":\"#E5ECF6\",\"polar\":{\"bgcolor\":\"#E5ECF6\",\"angularaxis\":{\"gridcolor\":\"white\",\"linecolor\":\"white\",\"ticks\":\"\"},\"radialaxis\":{\"gridcolor\":\"white\",\"linecolor\":\"white\",\"ticks\":\"\"}},\"ternary\":{\"bgcolor\":\"#E5ECF6\",\"aaxis\":{\"gridcolor\":\"white\",\"linecolor\":\"white\",\"ticks\":\"\"},\"baxis\":{\"gridcolor\":\"white\",\"linecolor\":\"white\",\"ticks\":\"\"},\"caxis\":{\"gridcolor\":\"white\",\"linecolor\":\"white\",\"ticks\":\"\"}},\"coloraxis\":{\"colorbar\":{\"outlinewidth\":0,\"ticks\":\"\"}},\"colorscale\":{\"sequential\":[[0.0,\"#0d0887\"],[0.1111111111111111,\"#46039f\"],[0.2222222222222222,\"#7201a8\"],[0.3333333333333333,\"#9c179e\"],[0.4444444444444444,\"#bd3786\"],[0.5555555555555556,\"#d8576b\"],[0.6666666666666666,\"#ed7953\"],[0.7777777777777778,\"#fb9f3a\"],[0.8888888888888888,\"#fdca26\"],[1.0,\"#f0f921\"]],\"sequentialminus\":[[0.0,\"#0d0887\"],[0.1111111111111111,\"#46039f\"],[0.2222222222222222,\"#7201a8\"],[0.3333333333333333,\"#9c179e\"],[0.4444444444444444,\"#bd3786\"],[0.5555555555555556,\"#d8576b\"],[0.6666666666666666,\"#ed7953\"],[0.7777777777777778,\"#fb9f3a\"],[0.8888888888888888,\"#fdca26\"],[1.0,\"#f0f921\"]],\"diverging\":[[0,\"#8e0152\"],[0.1,\"#c51b7d\"],[0.2,\"#de77ae\"],[0.3,\"#f1b6da\"],[0.4,\"#fde0ef\"],[0.5,\"#f7f7f7\"],[0.6,\"#e6f5d0\"],[0.7,\"#b8e186\"],[0.8,\"#7fbc41\"],[0.9,\"#4d9221\"],[1,\"#276419\"]]},\"xaxis\":{\"gridcolor\":\"white\",\"linecolor\":\"white\",\"ticks\":\"\",\"title\":{\"standoff\":15},\"zerolinecolor\":\"white\",\"automargin\":true,\"zerolinewidth\":2},\"yaxis\":{\"gridcolor\":\"white\",\"linecolor\":\"white\",\"ticks\":\"\",\"title\":{\"standoff\":15},\"zerolinecolor\":\"white\",\"automargin\":true,\"zerolinewidth\":2},\"scene\":{\"xaxis\":{\"backgroundcolor\":\"#E5ECF6\",\"gridcolor\":\"white\",\"linecolor\":\"white\",\"showbackground\":true,\"ticks\":\"\",\"zerolinecolor\":\"white\",\"gridwidth\":2},\"yaxis\":{\"backgroundcolor\":\"#E5ECF6\",\"gridcolor\":\"white\",\"linecolor\":\"white\",\"showbackground\":true,\"ticks\":\"\",\"zerolinecolor\":\"white\",\"gridwidth\":2},\"zaxis\":{\"backgroundcolor\":\"#E5ECF6\",\"gridcolor\":\"white\",\"linecolor\":\"white\",\"showbackground\":true,\"ticks\":\"\",\"zerolinecolor\":\"white\",\"gridwidth\":2}},\"shapedefaults\":{\"line\":{\"color\":\"#2a3f5f\"}},\"annotationdefaults\":{\"arrowcolor\":\"#2a3f5f\",\"arrowhead\":0,\"arrowwidth\":1},\"geo\":{\"bgcolor\":\"white\",\"landcolor\":\"#E5ECF6\",\"subunitcolor\":\"white\",\"showland\":true,\"showlakes\":true,\"lakecolor\":\"white\"},\"title\":{\"x\":0.05},\"mapbox\":{\"style\":\"light\"}}},\"xaxis\":{\"title\":{\"text\":\"TimeStamp\",\"standoff\":25}},\"yaxis\":{\"title\":{\"text\":\"MidPrice\",\"standoff\":25}}},                        {\"responsive\": true}                    ).then(function(){\n",
       "                            \n",
       "var gd = document.getElementById('07fdae60-ce08-4606-8a19-975aa119b6ca');\n",
       "var x = new MutationObserver(function (mutations, observer) {{\n",
       "        var display = window.getComputedStyle(gd).display;\n",
       "        if (!display || display === 'none') {{\n",
       "            console.log([gd, 'removed!']);\n",
       "            Plotly.purge(gd);\n",
       "            observer.disconnect();\n",
       "        }}\n",
       "}});\n",
       "\n",
       "// Listen for the removal of the full notebook cells\n",
       "var notebookContainer = gd.closest('#notebook-container');\n",
       "if (notebookContainer) {{\n",
       "    x.observe(notebookContainer, {childList: true});\n",
       "}}\n",
       "\n",
       "// Listen for the clearing of the current output cell\n",
       "var outputEl = gd.closest('.output');\n",
       "if (outputEl) {{\n",
       "    x.observe(outputEl, {childList: true});\n",
       "}}\n",
       "\n",
       "                        })                };                });            </script>        </div>"
      ]
     },
     "metadata": {},
     "output_type": "display_data"
    }
   ],
   "source": [
    "visualization(vac1,cryptos[0])"
   ]
  },
  {
   "cell_type": "code",
   "execution_count": 18,
   "metadata": {},
   "outputs": [
    {
     "data": {
      "application/vnd.plotly.v1+json": {
       "config": {
        "plotlyServerURL": "https://plot.ly"
       },
       "data": [
        {
         "line": {
          "color": "skyblue"
         },
         "mode": "lines",
         "name": "BitMart BTC/USDC: MidPrice",
         "type": "scatter",
         "x": [
          "2022-11-09T23:19:58.186Z",
          "2022-11-09T23:19:59.827Z",
          "2022-11-09T23:20:02.144Z",
          "2022-11-09T23:20:04.730Z",
          "2022-11-09T23:20:05.890Z",
          "2022-11-09T23:20:07.885Z",
          "2022-11-09T23:20:09.806Z",
          "2022-11-09T23:20:12.649Z",
          "2022-11-09T23:20:13.836Z",
          "2022-11-09T23:20:16.412Z",
          "2022-11-09T23:20:17.900Z",
          "2022-11-09T23:20:19.881Z",
          "2022-11-09T23:20:21.891Z",
          "2022-11-09T23:20:24.715Z",
          "2022-11-09T23:20:26.758Z",
          "2022-11-09T23:20:28.046Z",
          "2022-11-09T23:20:29.863Z",
          "2022-11-09T23:20:32.271Z",
          "2022-11-09T23:20:33.858Z",
          "2022-11-09T23:20:37.213Z"
         ],
         "y": [
          15698.595000000001,
          15697.115000000002,
          15701.275000000001,
          15697.675,
          15693.46,
          15696.635,
          15701.404999999999,
          15694.060000000001,
          15693.985,
          15693.79,
          15700.645,
          15709.955,
          15714.605,
          15720.74,
          15714.95,
          15715.22,
          15718.525000000001,
          15716.095,
          15720.92,
          15719.25
         ]
        },
        {
         "line": {
          "color": "lightsalmon"
         },
         "mode": "lines",
         "name": "Bitforex BTC/USDC: MidPrice",
         "type": "scatter",
         "x": [
          "2022-11-09T23:19:59.116Z",
          "2022-11-09T23:20:01.139Z",
          "2022-11-09T23:20:03.155Z",
          "2022-11-09T23:20:05.165Z",
          "2022-11-09T23:20:07.170Z",
          "2022-11-09T23:20:09.180Z",
          "2022-11-09T23:20:11.183Z",
          "2022-11-09T23:20:13.184Z",
          "2022-11-09T23:20:15.199Z",
          "2022-11-09T23:20:17.261Z",
          "2022-11-09T23:20:19.201Z",
          "2022-11-09T23:20:21.209Z",
          "2022-11-09T23:20:23.225Z",
          "2022-11-09T23:20:25.229Z",
          "2022-11-09T23:20:27.276Z",
          "2022-11-09T23:20:29.254Z",
          "2022-11-09T23:20:31.268Z",
          "2022-11-09T23:20:33.264Z",
          "2022-11-09T23:20:35.970Z",
          "2022-11-09T23:20:37.947Z"
         ],
         "y": [
          15700.11,
          15700.11,
          15696.935000000001,
          15696.935000000001,
          15696.935000000001,
          15691.865,
          15691.865,
          15691.865,
          15691.865,
          15692.08,
          15692.08,
          15692.08,
          15692.08,
          15712.775,
          15712.775,
          15712.775,
          15718.779999999999,
          15718.779999999999,
          15718.779999999999,
          15721.9
         ]
        },
        {
         "line": {
          "color": "lawngreen"
         },
         "mode": "lines",
         "name": "Bibox BTC/USDC: MidPrice",
         "type": "scatter",
         "x": [
          "2022-11-09T23:19:59.183Z",
          "2022-11-09T23:20:01.052Z",
          "2022-11-09T23:20:03.239Z",
          "2022-11-09T23:20:05.437Z",
          "2022-11-09T23:20:07.293Z",
          "2022-11-09T23:20:09.157Z",
          "2022-11-09T23:20:11.349Z",
          "2022-11-09T23:20:13.219Z",
          "2022-11-09T23:20:15.400Z",
          "2022-11-09T23:20:17.281Z",
          "2022-11-09T23:20:19.142Z",
          "2022-11-09T23:20:21.310Z",
          "2022-11-09T23:20:23.205Z",
          "2022-11-09T23:20:25.392Z",
          "2022-11-09T23:20:27.000Z",
          "2022-11-09T23:20:29.445Z",
          "2022-11-09T23:20:31.312Z",
          "2022-11-09T23:20:33.495Z",
          "2022-11-09T23:20:36.000Z",
          "2022-11-09T23:20:37.565Z"
         ],
         "y": [
          15709.64,
          15713.86,
          15716.16,
          15706.025,
          15711.465,
          15714.36,
          15704.6,
          15705.375,
          15708.810000000001,
          15715.755000000001,
          15725.89,
          15728.39,
          15731.529999999999,
          15723.045,
          15730.535,
          15724.99,
          15727.740000000002,
          15724.39,
          15730.310000000001,
          15733.400000000001
         ]
        }
       ],
       "layout": {
        "template": {
         "data": {
          "bar": [
           {
            "error_x": {
             "color": "#2a3f5f"
            },
            "error_y": {
             "color": "#2a3f5f"
            },
            "marker": {
             "line": {
              "color": "#E5ECF6",
              "width": 0.5
             },
             "pattern": {
              "fillmode": "overlay",
              "size": 10,
              "solidity": 0.2
             }
            },
            "type": "bar"
           }
          ],
          "barpolar": [
           {
            "marker": {
             "line": {
              "color": "#E5ECF6",
              "width": 0.5
             },
             "pattern": {
              "fillmode": "overlay",
              "size": 10,
              "solidity": 0.2
             }
            },
            "type": "barpolar"
           }
          ],
          "carpet": [
           {
            "aaxis": {
             "endlinecolor": "#2a3f5f",
             "gridcolor": "white",
             "linecolor": "white",
             "minorgridcolor": "white",
             "startlinecolor": "#2a3f5f"
            },
            "baxis": {
             "endlinecolor": "#2a3f5f",
             "gridcolor": "white",
             "linecolor": "white",
             "minorgridcolor": "white",
             "startlinecolor": "#2a3f5f"
            },
            "type": "carpet"
           }
          ],
          "choropleth": [
           {
            "colorbar": {
             "outlinewidth": 0,
             "ticks": ""
            },
            "type": "choropleth"
           }
          ],
          "contour": [
           {
            "colorbar": {
             "outlinewidth": 0,
             "ticks": ""
            },
            "colorscale": [
             [
              0,
              "#0d0887"
             ],
             [
              0.1111111111111111,
              "#46039f"
             ],
             [
              0.2222222222222222,
              "#7201a8"
             ],
             [
              0.3333333333333333,
              "#9c179e"
             ],
             [
              0.4444444444444444,
              "#bd3786"
             ],
             [
              0.5555555555555556,
              "#d8576b"
             ],
             [
              0.6666666666666666,
              "#ed7953"
             ],
             [
              0.7777777777777778,
              "#fb9f3a"
             ],
             [
              0.8888888888888888,
              "#fdca26"
             ],
             [
              1,
              "#f0f921"
             ]
            ],
            "type": "contour"
           }
          ],
          "contourcarpet": [
           {
            "colorbar": {
             "outlinewidth": 0,
             "ticks": ""
            },
            "type": "contourcarpet"
           }
          ],
          "heatmap": [
           {
            "colorbar": {
             "outlinewidth": 0,
             "ticks": ""
            },
            "colorscale": [
             [
              0,
              "#0d0887"
             ],
             [
              0.1111111111111111,
              "#46039f"
             ],
             [
              0.2222222222222222,
              "#7201a8"
             ],
             [
              0.3333333333333333,
              "#9c179e"
             ],
             [
              0.4444444444444444,
              "#bd3786"
             ],
             [
              0.5555555555555556,
              "#d8576b"
             ],
             [
              0.6666666666666666,
              "#ed7953"
             ],
             [
              0.7777777777777778,
              "#fb9f3a"
             ],
             [
              0.8888888888888888,
              "#fdca26"
             ],
             [
              1,
              "#f0f921"
             ]
            ],
            "type": "heatmap"
           }
          ],
          "heatmapgl": [
           {
            "colorbar": {
             "outlinewidth": 0,
             "ticks": ""
            },
            "colorscale": [
             [
              0,
              "#0d0887"
             ],
             [
              0.1111111111111111,
              "#46039f"
             ],
             [
              0.2222222222222222,
              "#7201a8"
             ],
             [
              0.3333333333333333,
              "#9c179e"
             ],
             [
              0.4444444444444444,
              "#bd3786"
             ],
             [
              0.5555555555555556,
              "#d8576b"
             ],
             [
              0.6666666666666666,
              "#ed7953"
             ],
             [
              0.7777777777777778,
              "#fb9f3a"
             ],
             [
              0.8888888888888888,
              "#fdca26"
             ],
             [
              1,
              "#f0f921"
             ]
            ],
            "type": "heatmapgl"
           }
          ],
          "histogram": [
           {
            "marker": {
             "pattern": {
              "fillmode": "overlay",
              "size": 10,
              "solidity": 0.2
             }
            },
            "type": "histogram"
           }
          ],
          "histogram2d": [
           {
            "colorbar": {
             "outlinewidth": 0,
             "ticks": ""
            },
            "colorscale": [
             [
              0,
              "#0d0887"
             ],
             [
              0.1111111111111111,
              "#46039f"
             ],
             [
              0.2222222222222222,
              "#7201a8"
             ],
             [
              0.3333333333333333,
              "#9c179e"
             ],
             [
              0.4444444444444444,
              "#bd3786"
             ],
             [
              0.5555555555555556,
              "#d8576b"
             ],
             [
              0.6666666666666666,
              "#ed7953"
             ],
             [
              0.7777777777777778,
              "#fb9f3a"
             ],
             [
              0.8888888888888888,
              "#fdca26"
             ],
             [
              1,
              "#f0f921"
             ]
            ],
            "type": "histogram2d"
           }
          ],
          "histogram2dcontour": [
           {
            "colorbar": {
             "outlinewidth": 0,
             "ticks": ""
            },
            "colorscale": [
             [
              0,
              "#0d0887"
             ],
             [
              0.1111111111111111,
              "#46039f"
             ],
             [
              0.2222222222222222,
              "#7201a8"
             ],
             [
              0.3333333333333333,
              "#9c179e"
             ],
             [
              0.4444444444444444,
              "#bd3786"
             ],
             [
              0.5555555555555556,
              "#d8576b"
             ],
             [
              0.6666666666666666,
              "#ed7953"
             ],
             [
              0.7777777777777778,
              "#fb9f3a"
             ],
             [
              0.8888888888888888,
              "#fdca26"
             ],
             [
              1,
              "#f0f921"
             ]
            ],
            "type": "histogram2dcontour"
           }
          ],
          "mesh3d": [
           {
            "colorbar": {
             "outlinewidth": 0,
             "ticks": ""
            },
            "type": "mesh3d"
           }
          ],
          "parcoords": [
           {
            "line": {
             "colorbar": {
              "outlinewidth": 0,
              "ticks": ""
             }
            },
            "type": "parcoords"
           }
          ],
          "pie": [
           {
            "automargin": true,
            "type": "pie"
           }
          ],
          "scatter": [
           {
            "fillpattern": {
             "fillmode": "overlay",
             "size": 10,
             "solidity": 0.2
            },
            "type": "scatter"
           }
          ],
          "scatter3d": [
           {
            "line": {
             "colorbar": {
              "outlinewidth": 0,
              "ticks": ""
             }
            },
            "marker": {
             "colorbar": {
              "outlinewidth": 0,
              "ticks": ""
             }
            },
            "type": "scatter3d"
           }
          ],
          "scattercarpet": [
           {
            "marker": {
             "colorbar": {
              "outlinewidth": 0,
              "ticks": ""
             }
            },
            "type": "scattercarpet"
           }
          ],
          "scattergeo": [
           {
            "marker": {
             "colorbar": {
              "outlinewidth": 0,
              "ticks": ""
             }
            },
            "type": "scattergeo"
           }
          ],
          "scattergl": [
           {
            "marker": {
             "colorbar": {
              "outlinewidth": 0,
              "ticks": ""
             }
            },
            "type": "scattergl"
           }
          ],
          "scattermapbox": [
           {
            "marker": {
             "colorbar": {
              "outlinewidth": 0,
              "ticks": ""
             }
            },
            "type": "scattermapbox"
           }
          ],
          "scatterpolar": [
           {
            "marker": {
             "colorbar": {
              "outlinewidth": 0,
              "ticks": ""
             }
            },
            "type": "scatterpolar"
           }
          ],
          "scatterpolargl": [
           {
            "marker": {
             "colorbar": {
              "outlinewidth": 0,
              "ticks": ""
             }
            },
            "type": "scatterpolargl"
           }
          ],
          "scatterternary": [
           {
            "marker": {
             "colorbar": {
              "outlinewidth": 0,
              "ticks": ""
             }
            },
            "type": "scatterternary"
           }
          ],
          "surface": [
           {
            "colorbar": {
             "outlinewidth": 0,
             "ticks": ""
            },
            "colorscale": [
             [
              0,
              "#0d0887"
             ],
             [
              0.1111111111111111,
              "#46039f"
             ],
             [
              0.2222222222222222,
              "#7201a8"
             ],
             [
              0.3333333333333333,
              "#9c179e"
             ],
             [
              0.4444444444444444,
              "#bd3786"
             ],
             [
              0.5555555555555556,
              "#d8576b"
             ],
             [
              0.6666666666666666,
              "#ed7953"
             ],
             [
              0.7777777777777778,
              "#fb9f3a"
             ],
             [
              0.8888888888888888,
              "#fdca26"
             ],
             [
              1,
              "#f0f921"
             ]
            ],
            "type": "surface"
           }
          ],
          "table": [
           {
            "cells": {
             "fill": {
              "color": "#EBF0F8"
             },
             "line": {
              "color": "white"
             }
            },
            "header": {
             "fill": {
              "color": "#C8D4E3"
             },
             "line": {
              "color": "white"
             }
            },
            "type": "table"
           }
          ]
         },
         "layout": {
          "annotationdefaults": {
           "arrowcolor": "#2a3f5f",
           "arrowhead": 0,
           "arrowwidth": 1
          },
          "autotypenumbers": "strict",
          "coloraxis": {
           "colorbar": {
            "outlinewidth": 0,
            "ticks": ""
           }
          },
          "colorscale": {
           "diverging": [
            [
             0,
             "#8e0152"
            ],
            [
             0.1,
             "#c51b7d"
            ],
            [
             0.2,
             "#de77ae"
            ],
            [
             0.3,
             "#f1b6da"
            ],
            [
             0.4,
             "#fde0ef"
            ],
            [
             0.5,
             "#f7f7f7"
            ],
            [
             0.6,
             "#e6f5d0"
            ],
            [
             0.7,
             "#b8e186"
            ],
            [
             0.8,
             "#7fbc41"
            ],
            [
             0.9,
             "#4d9221"
            ],
            [
             1,
             "#276419"
            ]
           ],
           "sequential": [
            [
             0,
             "#0d0887"
            ],
            [
             0.1111111111111111,
             "#46039f"
            ],
            [
             0.2222222222222222,
             "#7201a8"
            ],
            [
             0.3333333333333333,
             "#9c179e"
            ],
            [
             0.4444444444444444,
             "#bd3786"
            ],
            [
             0.5555555555555556,
             "#d8576b"
            ],
            [
             0.6666666666666666,
             "#ed7953"
            ],
            [
             0.7777777777777778,
             "#fb9f3a"
            ],
            [
             0.8888888888888888,
             "#fdca26"
            ],
            [
             1,
             "#f0f921"
            ]
           ],
           "sequentialminus": [
            [
             0,
             "#0d0887"
            ],
            [
             0.1111111111111111,
             "#46039f"
            ],
            [
             0.2222222222222222,
             "#7201a8"
            ],
            [
             0.3333333333333333,
             "#9c179e"
            ],
            [
             0.4444444444444444,
             "#bd3786"
            ],
            [
             0.5555555555555556,
             "#d8576b"
            ],
            [
             0.6666666666666666,
             "#ed7953"
            ],
            [
             0.7777777777777778,
             "#fb9f3a"
            ],
            [
             0.8888888888888888,
             "#fdca26"
            ],
            [
             1,
             "#f0f921"
            ]
           ]
          },
          "colorway": [
           "#636efa",
           "#EF553B",
           "#00cc96",
           "#ab63fa",
           "#FFA15A",
           "#19d3f3",
           "#FF6692",
           "#B6E880",
           "#FF97FF",
           "#FECB52"
          ],
          "font": {
           "color": "#2a3f5f"
          },
          "geo": {
           "bgcolor": "white",
           "lakecolor": "white",
           "landcolor": "#E5ECF6",
           "showlakes": true,
           "showland": true,
           "subunitcolor": "white"
          },
          "hoverlabel": {
           "align": "left"
          },
          "hovermode": "closest",
          "mapbox": {
           "style": "light"
          },
          "paper_bgcolor": "white",
          "plot_bgcolor": "#E5ECF6",
          "polar": {
           "angularaxis": {
            "gridcolor": "white",
            "linecolor": "white",
            "ticks": ""
           },
           "bgcolor": "#E5ECF6",
           "radialaxis": {
            "gridcolor": "white",
            "linecolor": "white",
            "ticks": ""
           }
          },
          "scene": {
           "xaxis": {
            "backgroundcolor": "#E5ECF6",
            "gridcolor": "white",
            "gridwidth": 2,
            "linecolor": "white",
            "showbackground": true,
            "ticks": "",
            "zerolinecolor": "white"
           },
           "yaxis": {
            "backgroundcolor": "#E5ECF6",
            "gridcolor": "white",
            "gridwidth": 2,
            "linecolor": "white",
            "showbackground": true,
            "ticks": "",
            "zerolinecolor": "white"
           },
           "zaxis": {
            "backgroundcolor": "#E5ECF6",
            "gridcolor": "white",
            "gridwidth": 2,
            "linecolor": "white",
            "showbackground": true,
            "ticks": "",
            "zerolinecolor": "white"
           }
          },
          "shapedefaults": {
           "line": {
            "color": "#2a3f5f"
           }
          },
          "ternary": {
           "aaxis": {
            "gridcolor": "white",
            "linecolor": "white",
            "ticks": ""
           },
           "baxis": {
            "gridcolor": "white",
            "linecolor": "white",
            "ticks": ""
           },
           "bgcolor": "#E5ECF6",
           "caxis": {
            "gridcolor": "white",
            "linecolor": "white",
            "ticks": ""
           }
          },
          "title": {
           "x": 0.05
          },
          "xaxis": {
           "automargin": true,
           "gridcolor": "white",
           "linecolor": "white",
           "ticks": "",
           "title": {
            "standoff": 15
           },
           "zerolinecolor": "white",
           "zerolinewidth": 2
          },
          "yaxis": {
           "automargin": true,
           "gridcolor": "white",
           "linecolor": "white",
           "ticks": "",
           "title": {
            "standoff": 15
           },
           "zerolinecolor": "white",
           "zerolinewidth": 2
          }
         }
        },
        "title": {
         "text": "BTC/USDC Mid Price"
        },
        "xaxis": {
         "title": {
          "standoff": 25,
          "text": "TimeStamp"
         }
        },
        "yaxis": {
         "title": {
          "standoff": 25,
          "text": "MidPrice"
         }
        }
       }
      },
      "text/html": [
       "<div>                            <div id=\"e87edbd9-648a-47c2-9dac-b0ede90e6da6\" class=\"plotly-graph-div\" style=\"height:525px; width:100%;\"></div>            <script type=\"text/javascript\">                require([\"plotly\"], function(Plotly) {                    window.PLOTLYENV=window.PLOTLYENV || {};                                    if (document.getElementById(\"e87edbd9-648a-47c2-9dac-b0ede90e6da6\")) {                    Plotly.newPlot(                        \"e87edbd9-648a-47c2-9dac-b0ede90e6da6\",                        [{\"line\":{\"color\":\"skyblue\"},\"mode\":\"lines\",\"name\":\"BitMart BTC/USDC: MidPrice\",\"x\":[\"2022-11-09T23:19:58.186Z\",\"2022-11-09T23:19:59.827Z\",\"2022-11-09T23:20:02.144Z\",\"2022-11-09T23:20:04.730Z\",\"2022-11-09T23:20:05.890Z\",\"2022-11-09T23:20:07.885Z\",\"2022-11-09T23:20:09.806Z\",\"2022-11-09T23:20:12.649Z\",\"2022-11-09T23:20:13.836Z\",\"2022-11-09T23:20:16.412Z\",\"2022-11-09T23:20:17.900Z\",\"2022-11-09T23:20:19.881Z\",\"2022-11-09T23:20:21.891Z\",\"2022-11-09T23:20:24.715Z\",\"2022-11-09T23:20:26.758Z\",\"2022-11-09T23:20:28.046Z\",\"2022-11-09T23:20:29.863Z\",\"2022-11-09T23:20:32.271Z\",\"2022-11-09T23:20:33.858Z\",\"2022-11-09T23:20:37.213Z\"],\"y\":[15698.595000000001,15697.115000000002,15701.275000000001,15697.675,15693.46,15696.635,15701.404999999999,15694.060000000001,15693.985,15693.79,15700.645,15709.955,15714.605,15720.74,15714.95,15715.22,15718.525000000001,15716.095,15720.92,15719.25],\"type\":\"scatter\"},{\"line\":{\"color\":\"lightsalmon\"},\"mode\":\"lines\",\"name\":\"Bitforex BTC/USDC: MidPrice\",\"x\":[\"2022-11-09T23:19:59.116Z\",\"2022-11-09T23:20:01.139Z\",\"2022-11-09T23:20:03.155Z\",\"2022-11-09T23:20:05.165Z\",\"2022-11-09T23:20:07.170Z\",\"2022-11-09T23:20:09.180Z\",\"2022-11-09T23:20:11.183Z\",\"2022-11-09T23:20:13.184Z\",\"2022-11-09T23:20:15.199Z\",\"2022-11-09T23:20:17.261Z\",\"2022-11-09T23:20:19.201Z\",\"2022-11-09T23:20:21.209Z\",\"2022-11-09T23:20:23.225Z\",\"2022-11-09T23:20:25.229Z\",\"2022-11-09T23:20:27.276Z\",\"2022-11-09T23:20:29.254Z\",\"2022-11-09T23:20:31.268Z\",\"2022-11-09T23:20:33.264Z\",\"2022-11-09T23:20:35.970Z\",\"2022-11-09T23:20:37.947Z\"],\"y\":[15700.11,15700.11,15696.935000000001,15696.935000000001,15696.935000000001,15691.865,15691.865,15691.865,15691.865,15692.08,15692.08,15692.08,15692.08,15712.775,15712.775,15712.775,15718.779999999999,15718.779999999999,15718.779999999999,15721.9],\"type\":\"scatter\"},{\"line\":{\"color\":\"lawngreen\"},\"mode\":\"lines\",\"name\":\"Bibox BTC/USDC: MidPrice\",\"x\":[\"2022-11-09T23:19:59.183Z\",\"2022-11-09T23:20:01.052Z\",\"2022-11-09T23:20:03.239Z\",\"2022-11-09T23:20:05.437Z\",\"2022-11-09T23:20:07.293Z\",\"2022-11-09T23:20:09.157Z\",\"2022-11-09T23:20:11.349Z\",\"2022-11-09T23:20:13.219Z\",\"2022-11-09T23:20:15.400Z\",\"2022-11-09T23:20:17.281Z\",\"2022-11-09T23:20:19.142Z\",\"2022-11-09T23:20:21.310Z\",\"2022-11-09T23:20:23.205Z\",\"2022-11-09T23:20:25.392Z\",\"2022-11-09T23:20:27.000Z\",\"2022-11-09T23:20:29.445Z\",\"2022-11-09T23:20:31.312Z\",\"2022-11-09T23:20:33.495Z\",\"2022-11-09T23:20:36.000Z\",\"2022-11-09T23:20:37.565Z\"],\"y\":[15709.64,15713.86,15716.16,15706.025,15711.465,15714.36,15704.6,15705.375,15708.810000000001,15715.755000000001,15725.89,15728.39,15731.529999999999,15723.045,15730.535,15724.99,15727.740000000002,15724.39,15730.310000000001,15733.400000000001],\"type\":\"scatter\"}],                        {\"title\":{\"text\":\"BTC/USDC Mid Price\"},\"template\":{\"data\":{\"histogram2dcontour\":[{\"type\":\"histogram2dcontour\",\"colorbar\":{\"outlinewidth\":0,\"ticks\":\"\"},\"colorscale\":[[0.0,\"#0d0887\"],[0.1111111111111111,\"#46039f\"],[0.2222222222222222,\"#7201a8\"],[0.3333333333333333,\"#9c179e\"],[0.4444444444444444,\"#bd3786\"],[0.5555555555555556,\"#d8576b\"],[0.6666666666666666,\"#ed7953\"],[0.7777777777777778,\"#fb9f3a\"],[0.8888888888888888,\"#fdca26\"],[1.0,\"#f0f921\"]]}],\"choropleth\":[{\"type\":\"choropleth\",\"colorbar\":{\"outlinewidth\":0,\"ticks\":\"\"}}],\"histogram2d\":[{\"type\":\"histogram2d\",\"colorbar\":{\"outlinewidth\":0,\"ticks\":\"\"},\"colorscale\":[[0.0,\"#0d0887\"],[0.1111111111111111,\"#46039f\"],[0.2222222222222222,\"#7201a8\"],[0.3333333333333333,\"#9c179e\"],[0.4444444444444444,\"#bd3786\"],[0.5555555555555556,\"#d8576b\"],[0.6666666666666666,\"#ed7953\"],[0.7777777777777778,\"#fb9f3a\"],[0.8888888888888888,\"#fdca26\"],[1.0,\"#f0f921\"]]}],\"heatmap\":[{\"type\":\"heatmap\",\"colorbar\":{\"outlinewidth\":0,\"ticks\":\"\"},\"colorscale\":[[0.0,\"#0d0887\"],[0.1111111111111111,\"#46039f\"],[0.2222222222222222,\"#7201a8\"],[0.3333333333333333,\"#9c179e\"],[0.4444444444444444,\"#bd3786\"],[0.5555555555555556,\"#d8576b\"],[0.6666666666666666,\"#ed7953\"],[0.7777777777777778,\"#fb9f3a\"],[0.8888888888888888,\"#fdca26\"],[1.0,\"#f0f921\"]]}],\"heatmapgl\":[{\"type\":\"heatmapgl\",\"colorbar\":{\"outlinewidth\":0,\"ticks\":\"\"},\"colorscale\":[[0.0,\"#0d0887\"],[0.1111111111111111,\"#46039f\"],[0.2222222222222222,\"#7201a8\"],[0.3333333333333333,\"#9c179e\"],[0.4444444444444444,\"#bd3786\"],[0.5555555555555556,\"#d8576b\"],[0.6666666666666666,\"#ed7953\"],[0.7777777777777778,\"#fb9f3a\"],[0.8888888888888888,\"#fdca26\"],[1.0,\"#f0f921\"]]}],\"contourcarpet\":[{\"type\":\"contourcarpet\",\"colorbar\":{\"outlinewidth\":0,\"ticks\":\"\"}}],\"contour\":[{\"type\":\"contour\",\"colorbar\":{\"outlinewidth\":0,\"ticks\":\"\"},\"colorscale\":[[0.0,\"#0d0887\"],[0.1111111111111111,\"#46039f\"],[0.2222222222222222,\"#7201a8\"],[0.3333333333333333,\"#9c179e\"],[0.4444444444444444,\"#bd3786\"],[0.5555555555555556,\"#d8576b\"],[0.6666666666666666,\"#ed7953\"],[0.7777777777777778,\"#fb9f3a\"],[0.8888888888888888,\"#fdca26\"],[1.0,\"#f0f921\"]]}],\"surface\":[{\"type\":\"surface\",\"colorbar\":{\"outlinewidth\":0,\"ticks\":\"\"},\"colorscale\":[[0.0,\"#0d0887\"],[0.1111111111111111,\"#46039f\"],[0.2222222222222222,\"#7201a8\"],[0.3333333333333333,\"#9c179e\"],[0.4444444444444444,\"#bd3786\"],[0.5555555555555556,\"#d8576b\"],[0.6666666666666666,\"#ed7953\"],[0.7777777777777778,\"#fb9f3a\"],[0.8888888888888888,\"#fdca26\"],[1.0,\"#f0f921\"]]}],\"mesh3d\":[{\"type\":\"mesh3d\",\"colorbar\":{\"outlinewidth\":0,\"ticks\":\"\"}}],\"scatter\":[{\"fillpattern\":{\"fillmode\":\"overlay\",\"size\":10,\"solidity\":0.2},\"type\":\"scatter\"}],\"parcoords\":[{\"type\":\"parcoords\",\"line\":{\"colorbar\":{\"outlinewidth\":0,\"ticks\":\"\"}}}],\"scatterpolargl\":[{\"type\":\"scatterpolargl\",\"marker\":{\"colorbar\":{\"outlinewidth\":0,\"ticks\":\"\"}}}],\"bar\":[{\"error_x\":{\"color\":\"#2a3f5f\"},\"error_y\":{\"color\":\"#2a3f5f\"},\"marker\":{\"line\":{\"color\":\"#E5ECF6\",\"width\":0.5},\"pattern\":{\"fillmode\":\"overlay\",\"size\":10,\"solidity\":0.2}},\"type\":\"bar\"}],\"scattergeo\":[{\"type\":\"scattergeo\",\"marker\":{\"colorbar\":{\"outlinewidth\":0,\"ticks\":\"\"}}}],\"scatterpolar\":[{\"type\":\"scatterpolar\",\"marker\":{\"colorbar\":{\"outlinewidth\":0,\"ticks\":\"\"}}}],\"histogram\":[{\"marker\":{\"pattern\":{\"fillmode\":\"overlay\",\"size\":10,\"solidity\":0.2}},\"type\":\"histogram\"}],\"scattergl\":[{\"type\":\"scattergl\",\"marker\":{\"colorbar\":{\"outlinewidth\":0,\"ticks\":\"\"}}}],\"scatter3d\":[{\"type\":\"scatter3d\",\"line\":{\"colorbar\":{\"outlinewidth\":0,\"ticks\":\"\"}},\"marker\":{\"colorbar\":{\"outlinewidth\":0,\"ticks\":\"\"}}}],\"scattermapbox\":[{\"type\":\"scattermapbox\",\"marker\":{\"colorbar\":{\"outlinewidth\":0,\"ticks\":\"\"}}}],\"scatterternary\":[{\"type\":\"scatterternary\",\"marker\":{\"colorbar\":{\"outlinewidth\":0,\"ticks\":\"\"}}}],\"scattercarpet\":[{\"type\":\"scattercarpet\",\"marker\":{\"colorbar\":{\"outlinewidth\":0,\"ticks\":\"\"}}}],\"carpet\":[{\"aaxis\":{\"endlinecolor\":\"#2a3f5f\",\"gridcolor\":\"white\",\"linecolor\":\"white\",\"minorgridcolor\":\"white\",\"startlinecolor\":\"#2a3f5f\"},\"baxis\":{\"endlinecolor\":\"#2a3f5f\",\"gridcolor\":\"white\",\"linecolor\":\"white\",\"minorgridcolor\":\"white\",\"startlinecolor\":\"#2a3f5f\"},\"type\":\"carpet\"}],\"table\":[{\"cells\":{\"fill\":{\"color\":\"#EBF0F8\"},\"line\":{\"color\":\"white\"}},\"header\":{\"fill\":{\"color\":\"#C8D4E3\"},\"line\":{\"color\":\"white\"}},\"type\":\"table\"}],\"barpolar\":[{\"marker\":{\"line\":{\"color\":\"#E5ECF6\",\"width\":0.5},\"pattern\":{\"fillmode\":\"overlay\",\"size\":10,\"solidity\":0.2}},\"type\":\"barpolar\"}],\"pie\":[{\"automargin\":true,\"type\":\"pie\"}]},\"layout\":{\"autotypenumbers\":\"strict\",\"colorway\":[\"#636efa\",\"#EF553B\",\"#00cc96\",\"#ab63fa\",\"#FFA15A\",\"#19d3f3\",\"#FF6692\",\"#B6E880\",\"#FF97FF\",\"#FECB52\"],\"font\":{\"color\":\"#2a3f5f\"},\"hovermode\":\"closest\",\"hoverlabel\":{\"align\":\"left\"},\"paper_bgcolor\":\"white\",\"plot_bgcolor\":\"#E5ECF6\",\"polar\":{\"bgcolor\":\"#E5ECF6\",\"angularaxis\":{\"gridcolor\":\"white\",\"linecolor\":\"white\",\"ticks\":\"\"},\"radialaxis\":{\"gridcolor\":\"white\",\"linecolor\":\"white\",\"ticks\":\"\"}},\"ternary\":{\"bgcolor\":\"#E5ECF6\",\"aaxis\":{\"gridcolor\":\"white\",\"linecolor\":\"white\",\"ticks\":\"\"},\"baxis\":{\"gridcolor\":\"white\",\"linecolor\":\"white\",\"ticks\":\"\"},\"caxis\":{\"gridcolor\":\"white\",\"linecolor\":\"white\",\"ticks\":\"\"}},\"coloraxis\":{\"colorbar\":{\"outlinewidth\":0,\"ticks\":\"\"}},\"colorscale\":{\"sequential\":[[0.0,\"#0d0887\"],[0.1111111111111111,\"#46039f\"],[0.2222222222222222,\"#7201a8\"],[0.3333333333333333,\"#9c179e\"],[0.4444444444444444,\"#bd3786\"],[0.5555555555555556,\"#d8576b\"],[0.6666666666666666,\"#ed7953\"],[0.7777777777777778,\"#fb9f3a\"],[0.8888888888888888,\"#fdca26\"],[1.0,\"#f0f921\"]],\"sequentialminus\":[[0.0,\"#0d0887\"],[0.1111111111111111,\"#46039f\"],[0.2222222222222222,\"#7201a8\"],[0.3333333333333333,\"#9c179e\"],[0.4444444444444444,\"#bd3786\"],[0.5555555555555556,\"#d8576b\"],[0.6666666666666666,\"#ed7953\"],[0.7777777777777778,\"#fb9f3a\"],[0.8888888888888888,\"#fdca26\"],[1.0,\"#f0f921\"]],\"diverging\":[[0,\"#8e0152\"],[0.1,\"#c51b7d\"],[0.2,\"#de77ae\"],[0.3,\"#f1b6da\"],[0.4,\"#fde0ef\"],[0.5,\"#f7f7f7\"],[0.6,\"#e6f5d0\"],[0.7,\"#b8e186\"],[0.8,\"#7fbc41\"],[0.9,\"#4d9221\"],[1,\"#276419\"]]},\"xaxis\":{\"gridcolor\":\"white\",\"linecolor\":\"white\",\"ticks\":\"\",\"title\":{\"standoff\":15},\"zerolinecolor\":\"white\",\"automargin\":true,\"zerolinewidth\":2},\"yaxis\":{\"gridcolor\":\"white\",\"linecolor\":\"white\",\"ticks\":\"\",\"title\":{\"standoff\":15},\"zerolinecolor\":\"white\",\"automargin\":true,\"zerolinewidth\":2},\"scene\":{\"xaxis\":{\"backgroundcolor\":\"#E5ECF6\",\"gridcolor\":\"white\",\"linecolor\":\"white\",\"showbackground\":true,\"ticks\":\"\",\"zerolinecolor\":\"white\",\"gridwidth\":2},\"yaxis\":{\"backgroundcolor\":\"#E5ECF6\",\"gridcolor\":\"white\",\"linecolor\":\"white\",\"showbackground\":true,\"ticks\":\"\",\"zerolinecolor\":\"white\",\"gridwidth\":2},\"zaxis\":{\"backgroundcolor\":\"#E5ECF6\",\"gridcolor\":\"white\",\"linecolor\":\"white\",\"showbackground\":true,\"ticks\":\"\",\"zerolinecolor\":\"white\",\"gridwidth\":2}},\"shapedefaults\":{\"line\":{\"color\":\"#2a3f5f\"}},\"annotationdefaults\":{\"arrowcolor\":\"#2a3f5f\",\"arrowhead\":0,\"arrowwidth\":1},\"geo\":{\"bgcolor\":\"white\",\"landcolor\":\"#E5ECF6\",\"subunitcolor\":\"white\",\"showland\":true,\"showlakes\":true,\"lakecolor\":\"white\"},\"title\":{\"x\":0.05},\"mapbox\":{\"style\":\"light\"}}},\"xaxis\":{\"title\":{\"text\":\"TimeStamp\",\"standoff\":25}},\"yaxis\":{\"title\":{\"text\":\"MidPrice\",\"standoff\":25}}},                        {\"responsive\": true}                    ).then(function(){\n",
       "                            \n",
       "var gd = document.getElementById('e87edbd9-648a-47c2-9dac-b0ede90e6da6');\n",
       "var x = new MutationObserver(function (mutations, observer) {{\n",
       "        var display = window.getComputedStyle(gd).display;\n",
       "        if (!display || display === 'none') {{\n",
       "            console.log([gd, 'removed!']);\n",
       "            Plotly.purge(gd);\n",
       "            observer.disconnect();\n",
       "        }}\n",
       "}});\n",
       "\n",
       "// Listen for the removal of the full notebook cells\n",
       "var notebookContainer = gd.closest('#notebook-container');\n",
       "if (notebookContainer) {{\n",
       "    x.observe(notebookContainer, {childList: true});\n",
       "}}\n",
       "\n",
       "// Listen for the clearing of the current output cell\n",
       "var outputEl = gd.closest('.output');\n",
       "if (outputEl) {{\n",
       "    x.observe(outputEl, {childList: true});\n",
       "}}\n",
       "\n",
       "                        })                };                });            </script>        </div>"
      ]
     },
     "metadata": {},
     "output_type": "display_data"
    }
   ],
   "source": [
    "visualization(vac2,cryptos[1])"
   ]
  },
  {
   "cell_type": "code",
   "execution_count": 19,
   "metadata": {},
   "outputs": [
    {
     "data": {
      "application/vnd.plotly.v1+json": {
       "config": {
        "plotlyServerURL": "https://plot.ly"
       },
       "data": [
        {
         "line": {
          "color": "skyblue"
         },
         "mode": "lines",
         "name": "BitMart ETH/USDT: MidPrice",
         "type": "scatter",
         "x": [
          "2022-11-09T23:20:38.543Z",
          "2022-11-09T23:20:40.215Z",
          "2022-11-09T23:20:42.704Z",
          "2022-11-09T23:20:44.323Z",
          "2022-11-09T23:20:46.345Z",
          "2022-11-09T23:20:48.769Z",
          "2022-11-09T23:20:52.444Z",
          "2022-11-09T23:20:53.874Z",
          "2022-11-09T23:20:55.902Z",
          "2022-11-09T23:20:57.762Z",
          "2022-11-09T23:21:00.534Z",
          "2022-11-09T23:21:01.777Z",
          "2022-11-09T23:21:03.496Z",
          "2022-11-09T23:21:05.525Z",
          "2022-11-09T23:21:07.899Z",
          "2022-11-09T23:21:09.647Z",
          "2022-11-09T23:21:11.490Z",
          "2022-11-09T23:21:13.681Z",
          "2022-11-09T23:21:16.871Z",
          "2022-11-09T23:21:18.120Z"
         ],
         "y": [
          1100.375,
          1100.65,
          1100.685,
          1100.275,
          1100.33,
          1100.48,
          1100.08,
          1100.225,
          1101.07,
          1101.35,
          1101.5349999999999,
          1102.165,
          1101.6599999999999,
          1100.385,
          1101.5700000000002,
          1101.8850000000002,
          1101.845,
          1101.7849999999999,
          1102,
          1100.8600000000001
         ]
        },
        {
         "line": {
          "color": "lightsalmon"
         },
         "mode": "lines",
         "name": "Bitforex ETH/USDT: MidPrice",
         "type": "scatter",
         "x": [
          "2022-11-09T23:20:39.515Z",
          "2022-11-09T23:20:41.535Z",
          "2022-11-09T23:20:43.551Z",
          "2022-11-09T23:20:45.564Z",
          "2022-11-09T23:20:47.587Z",
          "2022-11-09T23:20:49.552Z",
          "2022-11-09T23:20:52.766Z",
          "2022-11-09T23:20:54.755Z",
          "2022-11-09T23:20:56.757Z",
          "2022-11-09T23:20:58.770Z",
          "2022-11-09T23:21:00.814Z",
          "2022-11-09T23:21:02.815Z",
          "2022-11-09T23:21:04.794Z",
          "2022-11-09T23:21:06.810Z",
          "2022-11-09T23:21:08.838Z",
          "2022-11-09T23:21:10.838Z",
          "2022-11-09T23:21:12.892Z",
          "2022-11-09T23:21:14.844Z",
          "2022-11-09T23:21:17.146Z",
          "2022-11-09T23:21:19.138Z"
         ],
         "y": [
          1100.865,
          1100.905,
          1100.905,
          1100.905,
          1100.905,
          1100.875,
          1100.855,
          1101.6100000000001,
          1101.725,
          1101.69,
          1101.615,
          1101.4650000000001,
          1101.4650000000001,
          1102.225,
          1101.765,
          1100.82,
          1101.02,
          1102.005,
          1102.475,
          1102.035
         ]
        },
        {
         "line": {
          "color": "lawngreen"
         },
         "mode": "lines",
         "name": "Bibox ETH/USDT: MidPrice",
         "type": "scatter",
         "x": [
          "2022-11-09T23:20:39.745Z",
          "2022-11-09T23:20:41.718Z",
          "2022-11-09T23:20:43.803Z",
          "2022-11-09T23:20:45.987Z",
          "2022-11-09T23:20:47.856Z",
          "2022-11-09T23:20:49.727Z",
          "2022-11-09T23:20:53.000Z",
          "2022-11-09T23:20:55.369Z",
          "2022-11-09T23:20:57.022Z",
          "2022-11-09T23:20:59.000Z",
          "2022-11-09T23:21:01.000Z",
          "2022-11-09T23:21:03.000Z",
          "2022-11-09T23:21:05.211Z",
          "2022-11-09T23:21:07.543Z",
          "2022-11-09T23:21:09.100Z",
          "2022-11-09T23:21:10.973Z",
          "2022-11-09T23:21:13.160Z",
          "2022-11-09T23:21:15.042Z",
          "2022-11-09T23:21:17.231Z",
          "2022-11-09T23:21:19.407Z"
         ],
         "y": [
          1120.38,
          1120.38,
          1120.395,
          1120.395,
          1120.395,
          1120.3899999999999,
          1120.3899999999999,
          1120.38,
          1120.38,
          1120.38,
          1120.355,
          1120.36,
          1120.36,
          1120.3899999999999,
          1120.3899999999999,
          1120.3899999999999,
          1120.395,
          1120.395,
          1120.375,
          1120.365
         ]
        }
       ],
       "layout": {
        "template": {
         "data": {
          "bar": [
           {
            "error_x": {
             "color": "#2a3f5f"
            },
            "error_y": {
             "color": "#2a3f5f"
            },
            "marker": {
             "line": {
              "color": "#E5ECF6",
              "width": 0.5
             },
             "pattern": {
              "fillmode": "overlay",
              "size": 10,
              "solidity": 0.2
             }
            },
            "type": "bar"
           }
          ],
          "barpolar": [
           {
            "marker": {
             "line": {
              "color": "#E5ECF6",
              "width": 0.5
             },
             "pattern": {
              "fillmode": "overlay",
              "size": 10,
              "solidity": 0.2
             }
            },
            "type": "barpolar"
           }
          ],
          "carpet": [
           {
            "aaxis": {
             "endlinecolor": "#2a3f5f",
             "gridcolor": "white",
             "linecolor": "white",
             "minorgridcolor": "white",
             "startlinecolor": "#2a3f5f"
            },
            "baxis": {
             "endlinecolor": "#2a3f5f",
             "gridcolor": "white",
             "linecolor": "white",
             "minorgridcolor": "white",
             "startlinecolor": "#2a3f5f"
            },
            "type": "carpet"
           }
          ],
          "choropleth": [
           {
            "colorbar": {
             "outlinewidth": 0,
             "ticks": ""
            },
            "type": "choropleth"
           }
          ],
          "contour": [
           {
            "colorbar": {
             "outlinewidth": 0,
             "ticks": ""
            },
            "colorscale": [
             [
              0,
              "#0d0887"
             ],
             [
              0.1111111111111111,
              "#46039f"
             ],
             [
              0.2222222222222222,
              "#7201a8"
             ],
             [
              0.3333333333333333,
              "#9c179e"
             ],
             [
              0.4444444444444444,
              "#bd3786"
             ],
             [
              0.5555555555555556,
              "#d8576b"
             ],
             [
              0.6666666666666666,
              "#ed7953"
             ],
             [
              0.7777777777777778,
              "#fb9f3a"
             ],
             [
              0.8888888888888888,
              "#fdca26"
             ],
             [
              1,
              "#f0f921"
             ]
            ],
            "type": "contour"
           }
          ],
          "contourcarpet": [
           {
            "colorbar": {
             "outlinewidth": 0,
             "ticks": ""
            },
            "type": "contourcarpet"
           }
          ],
          "heatmap": [
           {
            "colorbar": {
             "outlinewidth": 0,
             "ticks": ""
            },
            "colorscale": [
             [
              0,
              "#0d0887"
             ],
             [
              0.1111111111111111,
              "#46039f"
             ],
             [
              0.2222222222222222,
              "#7201a8"
             ],
             [
              0.3333333333333333,
              "#9c179e"
             ],
             [
              0.4444444444444444,
              "#bd3786"
             ],
             [
              0.5555555555555556,
              "#d8576b"
             ],
             [
              0.6666666666666666,
              "#ed7953"
             ],
             [
              0.7777777777777778,
              "#fb9f3a"
             ],
             [
              0.8888888888888888,
              "#fdca26"
             ],
             [
              1,
              "#f0f921"
             ]
            ],
            "type": "heatmap"
           }
          ],
          "heatmapgl": [
           {
            "colorbar": {
             "outlinewidth": 0,
             "ticks": ""
            },
            "colorscale": [
             [
              0,
              "#0d0887"
             ],
             [
              0.1111111111111111,
              "#46039f"
             ],
             [
              0.2222222222222222,
              "#7201a8"
             ],
             [
              0.3333333333333333,
              "#9c179e"
             ],
             [
              0.4444444444444444,
              "#bd3786"
             ],
             [
              0.5555555555555556,
              "#d8576b"
             ],
             [
              0.6666666666666666,
              "#ed7953"
             ],
             [
              0.7777777777777778,
              "#fb9f3a"
             ],
             [
              0.8888888888888888,
              "#fdca26"
             ],
             [
              1,
              "#f0f921"
             ]
            ],
            "type": "heatmapgl"
           }
          ],
          "histogram": [
           {
            "marker": {
             "pattern": {
              "fillmode": "overlay",
              "size": 10,
              "solidity": 0.2
             }
            },
            "type": "histogram"
           }
          ],
          "histogram2d": [
           {
            "colorbar": {
             "outlinewidth": 0,
             "ticks": ""
            },
            "colorscale": [
             [
              0,
              "#0d0887"
             ],
             [
              0.1111111111111111,
              "#46039f"
             ],
             [
              0.2222222222222222,
              "#7201a8"
             ],
             [
              0.3333333333333333,
              "#9c179e"
             ],
             [
              0.4444444444444444,
              "#bd3786"
             ],
             [
              0.5555555555555556,
              "#d8576b"
             ],
             [
              0.6666666666666666,
              "#ed7953"
             ],
             [
              0.7777777777777778,
              "#fb9f3a"
             ],
             [
              0.8888888888888888,
              "#fdca26"
             ],
             [
              1,
              "#f0f921"
             ]
            ],
            "type": "histogram2d"
           }
          ],
          "histogram2dcontour": [
           {
            "colorbar": {
             "outlinewidth": 0,
             "ticks": ""
            },
            "colorscale": [
             [
              0,
              "#0d0887"
             ],
             [
              0.1111111111111111,
              "#46039f"
             ],
             [
              0.2222222222222222,
              "#7201a8"
             ],
             [
              0.3333333333333333,
              "#9c179e"
             ],
             [
              0.4444444444444444,
              "#bd3786"
             ],
             [
              0.5555555555555556,
              "#d8576b"
             ],
             [
              0.6666666666666666,
              "#ed7953"
             ],
             [
              0.7777777777777778,
              "#fb9f3a"
             ],
             [
              0.8888888888888888,
              "#fdca26"
             ],
             [
              1,
              "#f0f921"
             ]
            ],
            "type": "histogram2dcontour"
           }
          ],
          "mesh3d": [
           {
            "colorbar": {
             "outlinewidth": 0,
             "ticks": ""
            },
            "type": "mesh3d"
           }
          ],
          "parcoords": [
           {
            "line": {
             "colorbar": {
              "outlinewidth": 0,
              "ticks": ""
             }
            },
            "type": "parcoords"
           }
          ],
          "pie": [
           {
            "automargin": true,
            "type": "pie"
           }
          ],
          "scatter": [
           {
            "fillpattern": {
             "fillmode": "overlay",
             "size": 10,
             "solidity": 0.2
            },
            "type": "scatter"
           }
          ],
          "scatter3d": [
           {
            "line": {
             "colorbar": {
              "outlinewidth": 0,
              "ticks": ""
             }
            },
            "marker": {
             "colorbar": {
              "outlinewidth": 0,
              "ticks": ""
             }
            },
            "type": "scatter3d"
           }
          ],
          "scattercarpet": [
           {
            "marker": {
             "colorbar": {
              "outlinewidth": 0,
              "ticks": ""
             }
            },
            "type": "scattercarpet"
           }
          ],
          "scattergeo": [
           {
            "marker": {
             "colorbar": {
              "outlinewidth": 0,
              "ticks": ""
             }
            },
            "type": "scattergeo"
           }
          ],
          "scattergl": [
           {
            "marker": {
             "colorbar": {
              "outlinewidth": 0,
              "ticks": ""
             }
            },
            "type": "scattergl"
           }
          ],
          "scattermapbox": [
           {
            "marker": {
             "colorbar": {
              "outlinewidth": 0,
              "ticks": ""
             }
            },
            "type": "scattermapbox"
           }
          ],
          "scatterpolar": [
           {
            "marker": {
             "colorbar": {
              "outlinewidth": 0,
              "ticks": ""
             }
            },
            "type": "scatterpolar"
           }
          ],
          "scatterpolargl": [
           {
            "marker": {
             "colorbar": {
              "outlinewidth": 0,
              "ticks": ""
             }
            },
            "type": "scatterpolargl"
           }
          ],
          "scatterternary": [
           {
            "marker": {
             "colorbar": {
              "outlinewidth": 0,
              "ticks": ""
             }
            },
            "type": "scatterternary"
           }
          ],
          "surface": [
           {
            "colorbar": {
             "outlinewidth": 0,
             "ticks": ""
            },
            "colorscale": [
             [
              0,
              "#0d0887"
             ],
             [
              0.1111111111111111,
              "#46039f"
             ],
             [
              0.2222222222222222,
              "#7201a8"
             ],
             [
              0.3333333333333333,
              "#9c179e"
             ],
             [
              0.4444444444444444,
              "#bd3786"
             ],
             [
              0.5555555555555556,
              "#d8576b"
             ],
             [
              0.6666666666666666,
              "#ed7953"
             ],
             [
              0.7777777777777778,
              "#fb9f3a"
             ],
             [
              0.8888888888888888,
              "#fdca26"
             ],
             [
              1,
              "#f0f921"
             ]
            ],
            "type": "surface"
           }
          ],
          "table": [
           {
            "cells": {
             "fill": {
              "color": "#EBF0F8"
             },
             "line": {
              "color": "white"
             }
            },
            "header": {
             "fill": {
              "color": "#C8D4E3"
             },
             "line": {
              "color": "white"
             }
            },
            "type": "table"
           }
          ]
         },
         "layout": {
          "annotationdefaults": {
           "arrowcolor": "#2a3f5f",
           "arrowhead": 0,
           "arrowwidth": 1
          },
          "autotypenumbers": "strict",
          "coloraxis": {
           "colorbar": {
            "outlinewidth": 0,
            "ticks": ""
           }
          },
          "colorscale": {
           "diverging": [
            [
             0,
             "#8e0152"
            ],
            [
             0.1,
             "#c51b7d"
            ],
            [
             0.2,
             "#de77ae"
            ],
            [
             0.3,
             "#f1b6da"
            ],
            [
             0.4,
             "#fde0ef"
            ],
            [
             0.5,
             "#f7f7f7"
            ],
            [
             0.6,
             "#e6f5d0"
            ],
            [
             0.7,
             "#b8e186"
            ],
            [
             0.8,
             "#7fbc41"
            ],
            [
             0.9,
             "#4d9221"
            ],
            [
             1,
             "#276419"
            ]
           ],
           "sequential": [
            [
             0,
             "#0d0887"
            ],
            [
             0.1111111111111111,
             "#46039f"
            ],
            [
             0.2222222222222222,
             "#7201a8"
            ],
            [
             0.3333333333333333,
             "#9c179e"
            ],
            [
             0.4444444444444444,
             "#bd3786"
            ],
            [
             0.5555555555555556,
             "#d8576b"
            ],
            [
             0.6666666666666666,
             "#ed7953"
            ],
            [
             0.7777777777777778,
             "#fb9f3a"
            ],
            [
             0.8888888888888888,
             "#fdca26"
            ],
            [
             1,
             "#f0f921"
            ]
           ],
           "sequentialminus": [
            [
             0,
             "#0d0887"
            ],
            [
             0.1111111111111111,
             "#46039f"
            ],
            [
             0.2222222222222222,
             "#7201a8"
            ],
            [
             0.3333333333333333,
             "#9c179e"
            ],
            [
             0.4444444444444444,
             "#bd3786"
            ],
            [
             0.5555555555555556,
             "#d8576b"
            ],
            [
             0.6666666666666666,
             "#ed7953"
            ],
            [
             0.7777777777777778,
             "#fb9f3a"
            ],
            [
             0.8888888888888888,
             "#fdca26"
            ],
            [
             1,
             "#f0f921"
            ]
           ]
          },
          "colorway": [
           "#636efa",
           "#EF553B",
           "#00cc96",
           "#ab63fa",
           "#FFA15A",
           "#19d3f3",
           "#FF6692",
           "#B6E880",
           "#FF97FF",
           "#FECB52"
          ],
          "font": {
           "color": "#2a3f5f"
          },
          "geo": {
           "bgcolor": "white",
           "lakecolor": "white",
           "landcolor": "#E5ECF6",
           "showlakes": true,
           "showland": true,
           "subunitcolor": "white"
          },
          "hoverlabel": {
           "align": "left"
          },
          "hovermode": "closest",
          "mapbox": {
           "style": "light"
          },
          "paper_bgcolor": "white",
          "plot_bgcolor": "#E5ECF6",
          "polar": {
           "angularaxis": {
            "gridcolor": "white",
            "linecolor": "white",
            "ticks": ""
           },
           "bgcolor": "#E5ECF6",
           "radialaxis": {
            "gridcolor": "white",
            "linecolor": "white",
            "ticks": ""
           }
          },
          "scene": {
           "xaxis": {
            "backgroundcolor": "#E5ECF6",
            "gridcolor": "white",
            "gridwidth": 2,
            "linecolor": "white",
            "showbackground": true,
            "ticks": "",
            "zerolinecolor": "white"
           },
           "yaxis": {
            "backgroundcolor": "#E5ECF6",
            "gridcolor": "white",
            "gridwidth": 2,
            "linecolor": "white",
            "showbackground": true,
            "ticks": "",
            "zerolinecolor": "white"
           },
           "zaxis": {
            "backgroundcolor": "#E5ECF6",
            "gridcolor": "white",
            "gridwidth": 2,
            "linecolor": "white",
            "showbackground": true,
            "ticks": "",
            "zerolinecolor": "white"
           }
          },
          "shapedefaults": {
           "line": {
            "color": "#2a3f5f"
           }
          },
          "ternary": {
           "aaxis": {
            "gridcolor": "white",
            "linecolor": "white",
            "ticks": ""
           },
           "baxis": {
            "gridcolor": "white",
            "linecolor": "white",
            "ticks": ""
           },
           "bgcolor": "#E5ECF6",
           "caxis": {
            "gridcolor": "white",
            "linecolor": "white",
            "ticks": ""
           }
          },
          "title": {
           "x": 0.05
          },
          "xaxis": {
           "automargin": true,
           "gridcolor": "white",
           "linecolor": "white",
           "ticks": "",
           "title": {
            "standoff": 15
           },
           "zerolinecolor": "white",
           "zerolinewidth": 2
          },
          "yaxis": {
           "automargin": true,
           "gridcolor": "white",
           "linecolor": "white",
           "ticks": "",
           "title": {
            "standoff": 15
           },
           "zerolinecolor": "white",
           "zerolinewidth": 2
          }
         }
        },
        "title": {
         "text": "ETH/USDT Mid Price"
        },
        "xaxis": {
         "title": {
          "standoff": 25,
          "text": "TimeStamp"
         }
        },
        "yaxis": {
         "title": {
          "standoff": 25,
          "text": "MidPrice"
         }
        }
       }
      },
      "text/html": [
       "<div>                            <div id=\"f9906414-495d-4a2a-b0ee-c70086ca912e\" class=\"plotly-graph-div\" style=\"height:525px; width:100%;\"></div>            <script type=\"text/javascript\">                require([\"plotly\"], function(Plotly) {                    window.PLOTLYENV=window.PLOTLYENV || {};                                    if (document.getElementById(\"f9906414-495d-4a2a-b0ee-c70086ca912e\")) {                    Plotly.newPlot(                        \"f9906414-495d-4a2a-b0ee-c70086ca912e\",                        [{\"line\":{\"color\":\"skyblue\"},\"mode\":\"lines\",\"name\":\"BitMart ETH/USDT: MidPrice\",\"x\":[\"2022-11-09T23:20:38.543Z\",\"2022-11-09T23:20:40.215Z\",\"2022-11-09T23:20:42.704Z\",\"2022-11-09T23:20:44.323Z\",\"2022-11-09T23:20:46.345Z\",\"2022-11-09T23:20:48.769Z\",\"2022-11-09T23:20:52.444Z\",\"2022-11-09T23:20:53.874Z\",\"2022-11-09T23:20:55.902Z\",\"2022-11-09T23:20:57.762Z\",\"2022-11-09T23:21:00.534Z\",\"2022-11-09T23:21:01.777Z\",\"2022-11-09T23:21:03.496Z\",\"2022-11-09T23:21:05.525Z\",\"2022-11-09T23:21:07.899Z\",\"2022-11-09T23:21:09.647Z\",\"2022-11-09T23:21:11.490Z\",\"2022-11-09T23:21:13.681Z\",\"2022-11-09T23:21:16.871Z\",\"2022-11-09T23:21:18.120Z\"],\"y\":[1100.375,1100.65,1100.685,1100.275,1100.33,1100.48,1100.08,1100.225,1101.07,1101.35,1101.5349999999999,1102.165,1101.6599999999999,1100.385,1101.5700000000002,1101.8850000000002,1101.845,1101.7849999999999,1102.0,1100.8600000000001],\"type\":\"scatter\"},{\"line\":{\"color\":\"lightsalmon\"},\"mode\":\"lines\",\"name\":\"Bitforex ETH/USDT: MidPrice\",\"x\":[\"2022-11-09T23:20:39.515Z\",\"2022-11-09T23:20:41.535Z\",\"2022-11-09T23:20:43.551Z\",\"2022-11-09T23:20:45.564Z\",\"2022-11-09T23:20:47.587Z\",\"2022-11-09T23:20:49.552Z\",\"2022-11-09T23:20:52.766Z\",\"2022-11-09T23:20:54.755Z\",\"2022-11-09T23:20:56.757Z\",\"2022-11-09T23:20:58.770Z\",\"2022-11-09T23:21:00.814Z\",\"2022-11-09T23:21:02.815Z\",\"2022-11-09T23:21:04.794Z\",\"2022-11-09T23:21:06.810Z\",\"2022-11-09T23:21:08.838Z\",\"2022-11-09T23:21:10.838Z\",\"2022-11-09T23:21:12.892Z\",\"2022-11-09T23:21:14.844Z\",\"2022-11-09T23:21:17.146Z\",\"2022-11-09T23:21:19.138Z\"],\"y\":[1100.865,1100.905,1100.905,1100.905,1100.905,1100.875,1100.855,1101.6100000000001,1101.725,1101.69,1101.615,1101.4650000000001,1101.4650000000001,1102.225,1101.765,1100.82,1101.02,1102.005,1102.475,1102.035],\"type\":\"scatter\"},{\"line\":{\"color\":\"lawngreen\"},\"mode\":\"lines\",\"name\":\"Bibox ETH/USDT: MidPrice\",\"x\":[\"2022-11-09T23:20:39.745Z\",\"2022-11-09T23:20:41.718Z\",\"2022-11-09T23:20:43.803Z\",\"2022-11-09T23:20:45.987Z\",\"2022-11-09T23:20:47.856Z\",\"2022-11-09T23:20:49.727Z\",\"2022-11-09T23:20:53.000Z\",\"2022-11-09T23:20:55.369Z\",\"2022-11-09T23:20:57.022Z\",\"2022-11-09T23:20:59.000Z\",\"2022-11-09T23:21:01.000Z\",\"2022-11-09T23:21:03.000Z\",\"2022-11-09T23:21:05.211Z\",\"2022-11-09T23:21:07.543Z\",\"2022-11-09T23:21:09.100Z\",\"2022-11-09T23:21:10.973Z\",\"2022-11-09T23:21:13.160Z\",\"2022-11-09T23:21:15.042Z\",\"2022-11-09T23:21:17.231Z\",\"2022-11-09T23:21:19.407Z\"],\"y\":[1120.38,1120.38,1120.395,1120.395,1120.395,1120.3899999999999,1120.3899999999999,1120.38,1120.38,1120.38,1120.355,1120.36,1120.36,1120.3899999999999,1120.3899999999999,1120.3899999999999,1120.395,1120.395,1120.375,1120.365],\"type\":\"scatter\"}],                        {\"title\":{\"text\":\"ETH/USDT Mid Price\"},\"template\":{\"data\":{\"histogram2dcontour\":[{\"type\":\"histogram2dcontour\",\"colorbar\":{\"outlinewidth\":0,\"ticks\":\"\"},\"colorscale\":[[0.0,\"#0d0887\"],[0.1111111111111111,\"#46039f\"],[0.2222222222222222,\"#7201a8\"],[0.3333333333333333,\"#9c179e\"],[0.4444444444444444,\"#bd3786\"],[0.5555555555555556,\"#d8576b\"],[0.6666666666666666,\"#ed7953\"],[0.7777777777777778,\"#fb9f3a\"],[0.8888888888888888,\"#fdca26\"],[1.0,\"#f0f921\"]]}],\"choropleth\":[{\"type\":\"choropleth\",\"colorbar\":{\"outlinewidth\":0,\"ticks\":\"\"}}],\"histogram2d\":[{\"type\":\"histogram2d\",\"colorbar\":{\"outlinewidth\":0,\"ticks\":\"\"},\"colorscale\":[[0.0,\"#0d0887\"],[0.1111111111111111,\"#46039f\"],[0.2222222222222222,\"#7201a8\"],[0.3333333333333333,\"#9c179e\"],[0.4444444444444444,\"#bd3786\"],[0.5555555555555556,\"#d8576b\"],[0.6666666666666666,\"#ed7953\"],[0.7777777777777778,\"#fb9f3a\"],[0.8888888888888888,\"#fdca26\"],[1.0,\"#f0f921\"]]}],\"heatmap\":[{\"type\":\"heatmap\",\"colorbar\":{\"outlinewidth\":0,\"ticks\":\"\"},\"colorscale\":[[0.0,\"#0d0887\"],[0.1111111111111111,\"#46039f\"],[0.2222222222222222,\"#7201a8\"],[0.3333333333333333,\"#9c179e\"],[0.4444444444444444,\"#bd3786\"],[0.5555555555555556,\"#d8576b\"],[0.6666666666666666,\"#ed7953\"],[0.7777777777777778,\"#fb9f3a\"],[0.8888888888888888,\"#fdca26\"],[1.0,\"#f0f921\"]]}],\"heatmapgl\":[{\"type\":\"heatmapgl\",\"colorbar\":{\"outlinewidth\":0,\"ticks\":\"\"},\"colorscale\":[[0.0,\"#0d0887\"],[0.1111111111111111,\"#46039f\"],[0.2222222222222222,\"#7201a8\"],[0.3333333333333333,\"#9c179e\"],[0.4444444444444444,\"#bd3786\"],[0.5555555555555556,\"#d8576b\"],[0.6666666666666666,\"#ed7953\"],[0.7777777777777778,\"#fb9f3a\"],[0.8888888888888888,\"#fdca26\"],[1.0,\"#f0f921\"]]}],\"contourcarpet\":[{\"type\":\"contourcarpet\",\"colorbar\":{\"outlinewidth\":0,\"ticks\":\"\"}}],\"contour\":[{\"type\":\"contour\",\"colorbar\":{\"outlinewidth\":0,\"ticks\":\"\"},\"colorscale\":[[0.0,\"#0d0887\"],[0.1111111111111111,\"#46039f\"],[0.2222222222222222,\"#7201a8\"],[0.3333333333333333,\"#9c179e\"],[0.4444444444444444,\"#bd3786\"],[0.5555555555555556,\"#d8576b\"],[0.6666666666666666,\"#ed7953\"],[0.7777777777777778,\"#fb9f3a\"],[0.8888888888888888,\"#fdca26\"],[1.0,\"#f0f921\"]]}],\"surface\":[{\"type\":\"surface\",\"colorbar\":{\"outlinewidth\":0,\"ticks\":\"\"},\"colorscale\":[[0.0,\"#0d0887\"],[0.1111111111111111,\"#46039f\"],[0.2222222222222222,\"#7201a8\"],[0.3333333333333333,\"#9c179e\"],[0.4444444444444444,\"#bd3786\"],[0.5555555555555556,\"#d8576b\"],[0.6666666666666666,\"#ed7953\"],[0.7777777777777778,\"#fb9f3a\"],[0.8888888888888888,\"#fdca26\"],[1.0,\"#f0f921\"]]}],\"mesh3d\":[{\"type\":\"mesh3d\",\"colorbar\":{\"outlinewidth\":0,\"ticks\":\"\"}}],\"scatter\":[{\"fillpattern\":{\"fillmode\":\"overlay\",\"size\":10,\"solidity\":0.2},\"type\":\"scatter\"}],\"parcoords\":[{\"type\":\"parcoords\",\"line\":{\"colorbar\":{\"outlinewidth\":0,\"ticks\":\"\"}}}],\"scatterpolargl\":[{\"type\":\"scatterpolargl\",\"marker\":{\"colorbar\":{\"outlinewidth\":0,\"ticks\":\"\"}}}],\"bar\":[{\"error_x\":{\"color\":\"#2a3f5f\"},\"error_y\":{\"color\":\"#2a3f5f\"},\"marker\":{\"line\":{\"color\":\"#E5ECF6\",\"width\":0.5},\"pattern\":{\"fillmode\":\"overlay\",\"size\":10,\"solidity\":0.2}},\"type\":\"bar\"}],\"scattergeo\":[{\"type\":\"scattergeo\",\"marker\":{\"colorbar\":{\"outlinewidth\":0,\"ticks\":\"\"}}}],\"scatterpolar\":[{\"type\":\"scatterpolar\",\"marker\":{\"colorbar\":{\"outlinewidth\":0,\"ticks\":\"\"}}}],\"histogram\":[{\"marker\":{\"pattern\":{\"fillmode\":\"overlay\",\"size\":10,\"solidity\":0.2}},\"type\":\"histogram\"}],\"scattergl\":[{\"type\":\"scattergl\",\"marker\":{\"colorbar\":{\"outlinewidth\":0,\"ticks\":\"\"}}}],\"scatter3d\":[{\"type\":\"scatter3d\",\"line\":{\"colorbar\":{\"outlinewidth\":0,\"ticks\":\"\"}},\"marker\":{\"colorbar\":{\"outlinewidth\":0,\"ticks\":\"\"}}}],\"scattermapbox\":[{\"type\":\"scattermapbox\",\"marker\":{\"colorbar\":{\"outlinewidth\":0,\"ticks\":\"\"}}}],\"scatterternary\":[{\"type\":\"scatterternary\",\"marker\":{\"colorbar\":{\"outlinewidth\":0,\"ticks\":\"\"}}}],\"scattercarpet\":[{\"type\":\"scattercarpet\",\"marker\":{\"colorbar\":{\"outlinewidth\":0,\"ticks\":\"\"}}}],\"carpet\":[{\"aaxis\":{\"endlinecolor\":\"#2a3f5f\",\"gridcolor\":\"white\",\"linecolor\":\"white\",\"minorgridcolor\":\"white\",\"startlinecolor\":\"#2a3f5f\"},\"baxis\":{\"endlinecolor\":\"#2a3f5f\",\"gridcolor\":\"white\",\"linecolor\":\"white\",\"minorgridcolor\":\"white\",\"startlinecolor\":\"#2a3f5f\"},\"type\":\"carpet\"}],\"table\":[{\"cells\":{\"fill\":{\"color\":\"#EBF0F8\"},\"line\":{\"color\":\"white\"}},\"header\":{\"fill\":{\"color\":\"#C8D4E3\"},\"line\":{\"color\":\"white\"}},\"type\":\"table\"}],\"barpolar\":[{\"marker\":{\"line\":{\"color\":\"#E5ECF6\",\"width\":0.5},\"pattern\":{\"fillmode\":\"overlay\",\"size\":10,\"solidity\":0.2}},\"type\":\"barpolar\"}],\"pie\":[{\"automargin\":true,\"type\":\"pie\"}]},\"layout\":{\"autotypenumbers\":\"strict\",\"colorway\":[\"#636efa\",\"#EF553B\",\"#00cc96\",\"#ab63fa\",\"#FFA15A\",\"#19d3f3\",\"#FF6692\",\"#B6E880\",\"#FF97FF\",\"#FECB52\"],\"font\":{\"color\":\"#2a3f5f\"},\"hovermode\":\"closest\",\"hoverlabel\":{\"align\":\"left\"},\"paper_bgcolor\":\"white\",\"plot_bgcolor\":\"#E5ECF6\",\"polar\":{\"bgcolor\":\"#E5ECF6\",\"angularaxis\":{\"gridcolor\":\"white\",\"linecolor\":\"white\",\"ticks\":\"\"},\"radialaxis\":{\"gridcolor\":\"white\",\"linecolor\":\"white\",\"ticks\":\"\"}},\"ternary\":{\"bgcolor\":\"#E5ECF6\",\"aaxis\":{\"gridcolor\":\"white\",\"linecolor\":\"white\",\"ticks\":\"\"},\"baxis\":{\"gridcolor\":\"white\",\"linecolor\":\"white\",\"ticks\":\"\"},\"caxis\":{\"gridcolor\":\"white\",\"linecolor\":\"white\",\"ticks\":\"\"}},\"coloraxis\":{\"colorbar\":{\"outlinewidth\":0,\"ticks\":\"\"}},\"colorscale\":{\"sequential\":[[0.0,\"#0d0887\"],[0.1111111111111111,\"#46039f\"],[0.2222222222222222,\"#7201a8\"],[0.3333333333333333,\"#9c179e\"],[0.4444444444444444,\"#bd3786\"],[0.5555555555555556,\"#d8576b\"],[0.6666666666666666,\"#ed7953\"],[0.7777777777777778,\"#fb9f3a\"],[0.8888888888888888,\"#fdca26\"],[1.0,\"#f0f921\"]],\"sequentialminus\":[[0.0,\"#0d0887\"],[0.1111111111111111,\"#46039f\"],[0.2222222222222222,\"#7201a8\"],[0.3333333333333333,\"#9c179e\"],[0.4444444444444444,\"#bd3786\"],[0.5555555555555556,\"#d8576b\"],[0.6666666666666666,\"#ed7953\"],[0.7777777777777778,\"#fb9f3a\"],[0.8888888888888888,\"#fdca26\"],[1.0,\"#f0f921\"]],\"diverging\":[[0,\"#8e0152\"],[0.1,\"#c51b7d\"],[0.2,\"#de77ae\"],[0.3,\"#f1b6da\"],[0.4,\"#fde0ef\"],[0.5,\"#f7f7f7\"],[0.6,\"#e6f5d0\"],[0.7,\"#b8e186\"],[0.8,\"#7fbc41\"],[0.9,\"#4d9221\"],[1,\"#276419\"]]},\"xaxis\":{\"gridcolor\":\"white\",\"linecolor\":\"white\",\"ticks\":\"\",\"title\":{\"standoff\":15},\"zerolinecolor\":\"white\",\"automargin\":true,\"zerolinewidth\":2},\"yaxis\":{\"gridcolor\":\"white\",\"linecolor\":\"white\",\"ticks\":\"\",\"title\":{\"standoff\":15},\"zerolinecolor\":\"white\",\"automargin\":true,\"zerolinewidth\":2},\"scene\":{\"xaxis\":{\"backgroundcolor\":\"#E5ECF6\",\"gridcolor\":\"white\",\"linecolor\":\"white\",\"showbackground\":true,\"ticks\":\"\",\"zerolinecolor\":\"white\",\"gridwidth\":2},\"yaxis\":{\"backgroundcolor\":\"#E5ECF6\",\"gridcolor\":\"white\",\"linecolor\":\"white\",\"showbackground\":true,\"ticks\":\"\",\"zerolinecolor\":\"white\",\"gridwidth\":2},\"zaxis\":{\"backgroundcolor\":\"#E5ECF6\",\"gridcolor\":\"white\",\"linecolor\":\"white\",\"showbackground\":true,\"ticks\":\"\",\"zerolinecolor\":\"white\",\"gridwidth\":2}},\"shapedefaults\":{\"line\":{\"color\":\"#2a3f5f\"}},\"annotationdefaults\":{\"arrowcolor\":\"#2a3f5f\",\"arrowhead\":0,\"arrowwidth\":1},\"geo\":{\"bgcolor\":\"white\",\"landcolor\":\"#E5ECF6\",\"subunitcolor\":\"white\",\"showland\":true,\"showlakes\":true,\"lakecolor\":\"white\"},\"title\":{\"x\":0.05},\"mapbox\":{\"style\":\"light\"}}},\"xaxis\":{\"title\":{\"text\":\"TimeStamp\",\"standoff\":25}},\"yaxis\":{\"title\":{\"text\":\"MidPrice\",\"standoff\":25}}},                        {\"responsive\": true}                    ).then(function(){\n",
       "                            \n",
       "var gd = document.getElementById('f9906414-495d-4a2a-b0ee-c70086ca912e');\n",
       "var x = new MutationObserver(function (mutations, observer) {{\n",
       "        var display = window.getComputedStyle(gd).display;\n",
       "        if (!display || display === 'none') {{\n",
       "            console.log([gd, 'removed!']);\n",
       "            Plotly.purge(gd);\n",
       "            observer.disconnect();\n",
       "        }}\n",
       "}});\n",
       "\n",
       "// Listen for the removal of the full notebook cells\n",
       "var notebookContainer = gd.closest('#notebook-container');\n",
       "if (notebookContainer) {{\n",
       "    x.observe(notebookContainer, {childList: true});\n",
       "}}\n",
       "\n",
       "// Listen for the clearing of the current output cell\n",
       "var outputEl = gd.closest('.output');\n",
       "if (outputEl) {{\n",
       "    x.observe(outputEl, {childList: true});\n",
       "}}\n",
       "\n",
       "                        })                };                });            </script>        </div>"
      ]
     },
     "metadata": {},
     "output_type": "display_data"
    }
   ],
   "source": [
    "visualization(vac3,cryptos[2])"
   ]
  },
  {
   "cell_type": "markdown",
   "metadata": {},
   "source": [
    "# 3. Modelado de microestructura"
   ]
  },
  {
   "attachments": {
    "image.png": {
     "image/png": "[encoded data removed]"
    }
   },
   "cell_type": "markdown",
   "metadata": {},
   "source": [
    "![image.png](attachment:image.png)"
   ]
  },
  {
   "attachments": {
    "image.png": {
     "image/png": "[encoded data removed]"
    }
   },
   "cell_type": "markdown",
   "metadata": {},
   "source": [
    "![image.png](attachment:image.png)"
   ]
  },
  {
   "cell_type": "markdown",
   "metadata": {},
   "source": [
    "## 3.2 Verificacion de avance"
   ]
  },
  {
   "cell_type": "code",
   "execution_count": 48,
   "metadata": {},
   "outputs": [],
   "source": [
    "closec1=c1m1[0]+c1m2[0]+c1m3[0]\n",
    "closec2=c2m1[0]+c2m2[0]+c2m3[0]\n",
    "closec3=c3m1[0]+c3m2[0]+c3m3[0]\n",
    "\n",
    "date_closec1=c1m1[1]+c1m2[1]+c1m3[1]\n",
    "date_closec1=c2m1[1]+c2m2[1]+c2m3[1]\n",
    "date_closec1=c3m1[1]+c3m2[1]+c3m3[1]"
   ]
  },
  {
   "cell_type": "code",
   "execution_count": 49,
   "metadata": {},
   "outputs": [],
   "source": [
    "def verifavance3(dates,closes):\n",
    "    df=pd.DataFrame(columns=['timestamp','Close','Spread','Effective Spread'])\n",
    "    df['timestamp']=dates\n",
    "    df['Close']=closes\n",
    "    #df['Spread']\n",
    "#     for i in range(len(df)):\n",
    "#         df.loc[i,'Effective Spread']=2*np.sqrt(np.abs(np.cov(np.diff(closes)[i+5],np.diff(closes)[i+5])))\n",
    "    return df"
   ]
  },
  {
   "cell_type": "code",
   "execution_count": 50,
   "metadata": {},
   "outputs": [
    {
     "data": {
      "text/html": [
       "<div>\n",
       "<style scoped>\n",
       "    .dataframe tbody tr th:only-of-type {\n",
       "        vertical-align: middle;\n",
       "    }\n",
       "\n",
       "    .dataframe tbody tr th {\n",
       "        vertical-align: top;\n",
       "    }\n",
       "\n",
       "    .dataframe thead th {\n",
       "        text-align: right;\n",
       "    }\n",
       "</style>\n",
       "<table border=\"1\" class=\"dataframe\">\n",
       "  <thead>\n",
       "    <tr style=\"text-align: right;\">\n",
       "      <th></th>\n",
       "      <th>timestamp</th>\n",
       "      <th>Close</th>\n",
       "      <th>Spread</th>\n",
       "      <th>Effective Spread</th>\n",
       "    </tr>\n",
       "  </thead>\n",
       "  <tbody>\n",
       "    <tr>\n",
       "      <th>0</th>\n",
       "      <td>2022-11-09T23:21:00.000Z</td>\n",
       "      <td>15770.79</td>\n",
       "      <td>NaN</td>\n",
       "      <td>NaN</td>\n",
       "    </tr>\n",
       "    <tr>\n",
       "      <th>1</th>\n",
       "      <td>2022-11-09T23:22:00.000Z</td>\n",
       "      <td>15684.37</td>\n",
       "      <td>NaN</td>\n",
       "      <td>NaN</td>\n",
       "    </tr>\n",
       "    <tr>\n",
       "      <th>2</th>\n",
       "      <td>2022-11-09T23:23:00.000Z</td>\n",
       "      <td>15692.79</td>\n",
       "      <td>NaN</td>\n",
       "      <td>NaN</td>\n",
       "    </tr>\n",
       "    <tr>\n",
       "      <th>3</th>\n",
       "      <td>2022-11-09T23:24:00.000Z</td>\n",
       "      <td>15672.37</td>\n",
       "      <td>NaN</td>\n",
       "      <td>NaN</td>\n",
       "    </tr>\n",
       "    <tr>\n",
       "      <th>4</th>\n",
       "      <td>2022-11-09T23:25:00.000Z</td>\n",
       "      <td>15685.05</td>\n",
       "      <td>NaN</td>\n",
       "      <td>NaN</td>\n",
       "    </tr>\n",
       "    <tr>\n",
       "      <th>5</th>\n",
       "      <td>2022-11-09T23:26:00.000Z</td>\n",
       "      <td>15696.29</td>\n",
       "      <td>NaN</td>\n",
       "      <td>NaN</td>\n",
       "    </tr>\n",
       "    <tr>\n",
       "      <th>6</th>\n",
       "      <td>2022-11-09T23:27:00.000Z</td>\n",
       "      <td>15669.64</td>\n",
       "      <td>NaN</td>\n",
       "      <td>NaN</td>\n",
       "    </tr>\n",
       "    <tr>\n",
       "      <th>7</th>\n",
       "      <td>2022-11-09T23:28:00.000Z</td>\n",
       "      <td>15665.81</td>\n",
       "      <td>NaN</td>\n",
       "      <td>NaN</td>\n",
       "    </tr>\n",
       "    <tr>\n",
       "      <th>8</th>\n",
       "      <td>2022-11-09T23:29:00.000Z</td>\n",
       "      <td>15662.92</td>\n",
       "      <td>NaN</td>\n",
       "      <td>NaN</td>\n",
       "    </tr>\n",
       "    <tr>\n",
       "      <th>9</th>\n",
       "      <td>2022-11-09T23:30:00.000Z</td>\n",
       "      <td>15701.41</td>\n",
       "      <td>NaN</td>\n",
       "      <td>NaN</td>\n",
       "    </tr>\n",
       "    <tr>\n",
       "      <th>10</th>\n",
       "      <td>2022-11-09T23:31:00.000Z</td>\n",
       "      <td>15713.72</td>\n",
       "      <td>NaN</td>\n",
       "      <td>NaN</td>\n",
       "    </tr>\n",
       "    <tr>\n",
       "      <th>11</th>\n",
       "      <td>2022-11-09T23:32:00.000Z</td>\n",
       "      <td>15690.84</td>\n",
       "      <td>NaN</td>\n",
       "      <td>NaN</td>\n",
       "    </tr>\n",
       "    <tr>\n",
       "      <th>12</th>\n",
       "      <td>2022-11-09T23:33:00.000Z</td>\n",
       "      <td>15688.48</td>\n",
       "      <td>NaN</td>\n",
       "      <td>NaN</td>\n",
       "    </tr>\n",
       "    <tr>\n",
       "      <th>13</th>\n",
       "      <td>2022-11-09T23:34:00.000Z</td>\n",
       "      <td>15674.89</td>\n",
       "      <td>NaN</td>\n",
       "      <td>NaN</td>\n",
       "    </tr>\n",
       "    <tr>\n",
       "      <th>14</th>\n",
       "      <td>2022-11-09T23:35:00.000Z</td>\n",
       "      <td>15674.25</td>\n",
       "      <td>NaN</td>\n",
       "      <td>NaN</td>\n",
       "    </tr>\n",
       "    <tr>\n",
       "      <th>15</th>\n",
       "      <td>2022-11-09T23:36:00.000Z</td>\n",
       "      <td>15656.99</td>\n",
       "      <td>NaN</td>\n",
       "      <td>NaN</td>\n",
       "    </tr>\n",
       "    <tr>\n",
       "      <th>16</th>\n",
       "      <td>2022-11-09T23:37:00.000Z</td>\n",
       "      <td>15646.23</td>\n",
       "      <td>NaN</td>\n",
       "      <td>NaN</td>\n",
       "    </tr>\n",
       "    <tr>\n",
       "      <th>17</th>\n",
       "      <td>2022-11-09T23:38:00.000Z</td>\n",
       "      <td>15649.50</td>\n",
       "      <td>NaN</td>\n",
       "      <td>NaN</td>\n",
       "    </tr>\n",
       "    <tr>\n",
       "      <th>18</th>\n",
       "      <td>2022-11-09T23:39:00.000Z</td>\n",
       "      <td>15702.94</td>\n",
       "      <td>NaN</td>\n",
       "      <td>NaN</td>\n",
       "    </tr>\n",
       "    <tr>\n",
       "      <th>19</th>\n",
       "      <td>2022-11-09T23:40:00.000Z</td>\n",
       "      <td>15722.71</td>\n",
       "      <td>NaN</td>\n",
       "      <td>NaN</td>\n",
       "    </tr>\n",
       "    <tr>\n",
       "      <th>20</th>\n",
       "      <td>2022-11-09T23:42:00.000Z</td>\n",
       "      <td>15777.06</td>\n",
       "      <td>NaN</td>\n",
       "      <td>NaN</td>\n",
       "    </tr>\n",
       "    <tr>\n",
       "      <th>21</th>\n",
       "      <td>2022-11-09T23:43:00.000Z</td>\n",
       "      <td>15800.00</td>\n",
       "      <td>NaN</td>\n",
       "      <td>NaN</td>\n",
       "    </tr>\n",
       "    <tr>\n",
       "      <th>22</th>\n",
       "      <td>2022-11-09T23:44:00.000Z</td>\n",
       "      <td>15799.30</td>\n",
       "      <td>NaN</td>\n",
       "      <td>NaN</td>\n",
       "    </tr>\n",
       "    <tr>\n",
       "      <th>23</th>\n",
       "      <td>2022-11-09T23:45:00.000Z</td>\n",
       "      <td>15819.64</td>\n",
       "      <td>NaN</td>\n",
       "      <td>NaN</td>\n",
       "    </tr>\n",
       "    <tr>\n",
       "      <th>24</th>\n",
       "      <td>2022-11-09T23:46:00.000Z</td>\n",
       "      <td>15846.88</td>\n",
       "      <td>NaN</td>\n",
       "      <td>NaN</td>\n",
       "    </tr>\n",
       "    <tr>\n",
       "      <th>25</th>\n",
       "      <td>2022-11-09T23:47:00.000Z</td>\n",
       "      <td>15789.48</td>\n",
       "      <td>NaN</td>\n",
       "      <td>NaN</td>\n",
       "    </tr>\n",
       "    <tr>\n",
       "      <th>26</th>\n",
       "      <td>2022-11-09T23:48:00.000Z</td>\n",
       "      <td>15788.83</td>\n",
       "      <td>NaN</td>\n",
       "      <td>NaN</td>\n",
       "    </tr>\n",
       "    <tr>\n",
       "      <th>27</th>\n",
       "      <td>2022-11-09T23:49:00.000Z</td>\n",
       "      <td>15853.84</td>\n",
       "      <td>NaN</td>\n",
       "      <td>NaN</td>\n",
       "    </tr>\n",
       "    <tr>\n",
       "      <th>28</th>\n",
       "      <td>2022-11-09T23:50:00.000Z</td>\n",
       "      <td>15887.80</td>\n",
       "      <td>NaN</td>\n",
       "      <td>NaN</td>\n",
       "    </tr>\n",
       "    <tr>\n",
       "      <th>29</th>\n",
       "      <td>2022-11-09T23:51:00.000Z</td>\n",
       "      <td>15853.58</td>\n",
       "      <td>NaN</td>\n",
       "      <td>NaN</td>\n",
       "    </tr>\n",
       "    <tr>\n",
       "      <th>30</th>\n",
       "      <td>2022-11-09T23:52:00.000Z</td>\n",
       "      <td>15879.73</td>\n",
       "      <td>NaN</td>\n",
       "      <td>NaN</td>\n",
       "    </tr>\n",
       "    <tr>\n",
       "      <th>31</th>\n",
       "      <td>2022-11-09T23:53:00.000Z</td>\n",
       "      <td>15829.15</td>\n",
       "      <td>NaN</td>\n",
       "      <td>NaN</td>\n",
       "    </tr>\n",
       "    <tr>\n",
       "      <th>32</th>\n",
       "      <td>2022-11-09T23:54:00.000Z</td>\n",
       "      <td>15787.85</td>\n",
       "      <td>NaN</td>\n",
       "      <td>NaN</td>\n",
       "    </tr>\n",
       "    <tr>\n",
       "      <th>33</th>\n",
       "      <td>2022-11-09T23:55:00.000Z</td>\n",
       "      <td>15815.01</td>\n",
       "      <td>NaN</td>\n",
       "      <td>NaN</td>\n",
       "    </tr>\n",
       "    <tr>\n",
       "      <th>34</th>\n",
       "      <td>2022-11-09T23:56:00.000Z</td>\n",
       "      <td>15898.57</td>\n",
       "      <td>NaN</td>\n",
       "      <td>NaN</td>\n",
       "    </tr>\n",
       "    <tr>\n",
       "      <th>35</th>\n",
       "      <td>2022-11-09T23:57:00.000Z</td>\n",
       "      <td>15915.89</td>\n",
       "      <td>NaN</td>\n",
       "      <td>NaN</td>\n",
       "    </tr>\n",
       "    <tr>\n",
       "      <th>36</th>\n",
       "      <td>2022-11-09T23:58:00.000Z</td>\n",
       "      <td>15881.18</td>\n",
       "      <td>NaN</td>\n",
       "      <td>NaN</td>\n",
       "    </tr>\n",
       "    <tr>\n",
       "      <th>37</th>\n",
       "      <td>2022-11-09T23:59:00.000Z</td>\n",
       "      <td>15890.39</td>\n",
       "      <td>NaN</td>\n",
       "      <td>NaN</td>\n",
       "    </tr>\n",
       "    <tr>\n",
       "      <th>38</th>\n",
       "      <td>2022-11-10T00:00:00.000Z</td>\n",
       "      <td>15886.02</td>\n",
       "      <td>NaN</td>\n",
       "      <td>NaN</td>\n",
       "    </tr>\n",
       "    <tr>\n",
       "      <th>39</th>\n",
       "      <td>2022-11-10T00:01:00.000Z</td>\n",
       "      <td>15906.42</td>\n",
       "      <td>NaN</td>\n",
       "      <td>NaN</td>\n",
       "    </tr>\n",
       "    <tr>\n",
       "      <th>40</th>\n",
       "      <td>2022-11-09T23:21:00.000Z</td>\n",
       "      <td>15792.30</td>\n",
       "      <td>NaN</td>\n",
       "      <td>NaN</td>\n",
       "    </tr>\n",
       "    <tr>\n",
       "      <th>41</th>\n",
       "      <td>2022-11-09T23:22:00.000Z</td>\n",
       "      <td>15703.20</td>\n",
       "      <td>NaN</td>\n",
       "      <td>NaN</td>\n",
       "    </tr>\n",
       "    <tr>\n",
       "      <th>42</th>\n",
       "      <td>2022-11-09T23:23:00.000Z</td>\n",
       "      <td>15714.80</td>\n",
       "      <td>NaN</td>\n",
       "      <td>NaN</td>\n",
       "    </tr>\n",
       "    <tr>\n",
       "      <th>43</th>\n",
       "      <td>2022-11-09T23:24:00.000Z</td>\n",
       "      <td>15675.90</td>\n",
       "      <td>NaN</td>\n",
       "      <td>NaN</td>\n",
       "    </tr>\n",
       "    <tr>\n",
       "      <th>44</th>\n",
       "      <td>2022-11-09T23:25:00.000Z</td>\n",
       "      <td>15696.50</td>\n",
       "      <td>NaN</td>\n",
       "      <td>NaN</td>\n",
       "    </tr>\n",
       "    <tr>\n",
       "      <th>45</th>\n",
       "      <td>2022-11-09T23:26:00.000Z</td>\n",
       "      <td>15693.50</td>\n",
       "      <td>NaN</td>\n",
       "      <td>NaN</td>\n",
       "    </tr>\n",
       "    <tr>\n",
       "      <th>46</th>\n",
       "      <td>2022-11-09T23:27:00.000Z</td>\n",
       "      <td>15676.40</td>\n",
       "      <td>NaN</td>\n",
       "      <td>NaN</td>\n",
       "    </tr>\n",
       "    <tr>\n",
       "      <th>47</th>\n",
       "      <td>2022-11-09T23:28:00.000Z</td>\n",
       "      <td>15672.10</td>\n",
       "      <td>NaN</td>\n",
       "      <td>NaN</td>\n",
       "    </tr>\n",
       "    <tr>\n",
       "      <th>48</th>\n",
       "      <td>2022-11-09T23:29:00.000Z</td>\n",
       "      <td>15669.60</td>\n",
       "      <td>NaN</td>\n",
       "      <td>NaN</td>\n",
       "    </tr>\n",
       "    <tr>\n",
       "      <th>49</th>\n",
       "      <td>2022-11-09T23:30:00.000Z</td>\n",
       "      <td>15707.20</td>\n",
       "      <td>NaN</td>\n",
       "      <td>NaN</td>\n",
       "    </tr>\n",
       "    <tr>\n",
       "      <th>50</th>\n",
       "      <td>2022-11-09T23:31:00.000Z</td>\n",
       "      <td>15720.50</td>\n",
       "      <td>NaN</td>\n",
       "      <td>NaN</td>\n",
       "    </tr>\n",
       "    <tr>\n",
       "      <th>51</th>\n",
       "      <td>2022-11-09T23:32:00.000Z</td>\n",
       "      <td>15690.40</td>\n",
       "      <td>NaN</td>\n",
       "      <td>NaN</td>\n",
       "    </tr>\n",
       "    <tr>\n",
       "      <th>52</th>\n",
       "      <td>2022-11-09T23:33:00.000Z</td>\n",
       "      <td>15698.90</td>\n",
       "      <td>NaN</td>\n",
       "      <td>NaN</td>\n",
       "    </tr>\n",
       "    <tr>\n",
       "      <th>53</th>\n",
       "      <td>2022-11-09T23:34:00.000Z</td>\n",
       "      <td>15676.90</td>\n",
       "      <td>NaN</td>\n",
       "      <td>NaN</td>\n",
       "    </tr>\n",
       "    <tr>\n",
       "      <th>54</th>\n",
       "      <td>2022-11-09T23:35:00.000Z</td>\n",
       "      <td>15674.70</td>\n",
       "      <td>NaN</td>\n",
       "      <td>NaN</td>\n",
       "    </tr>\n",
       "    <tr>\n",
       "      <th>55</th>\n",
       "      <td>2022-11-09T23:36:00.000Z</td>\n",
       "      <td>15668.70</td>\n",
       "      <td>NaN</td>\n",
       "      <td>NaN</td>\n",
       "    </tr>\n",
       "    <tr>\n",
       "      <th>56</th>\n",
       "      <td>2022-11-09T23:37:00.000Z</td>\n",
       "      <td>15651.90</td>\n",
       "      <td>NaN</td>\n",
       "      <td>NaN</td>\n",
       "    </tr>\n",
       "    <tr>\n",
       "      <th>57</th>\n",
       "      <td>2022-11-09T23:38:00.000Z</td>\n",
       "      <td>15656.20</td>\n",
       "      <td>NaN</td>\n",
       "      <td>NaN</td>\n",
       "    </tr>\n",
       "    <tr>\n",
       "      <th>58</th>\n",
       "      <td>2022-11-09T23:39:00.000Z</td>\n",
       "      <td>15709.30</td>\n",
       "      <td>NaN</td>\n",
       "      <td>NaN</td>\n",
       "    </tr>\n",
       "    <tr>\n",
       "      <th>59</th>\n",
       "      <td>2022-11-09T23:40:00.000Z</td>\n",
       "      <td>15738.00</td>\n",
       "      <td>NaN</td>\n",
       "      <td>NaN</td>\n",
       "    </tr>\n",
       "  </tbody>\n",
       "</table>\n",
       "</div>"
      ],
      "text/plain": [
       "                   timestamp     Close Spread Effective Spread\n",
       "0   2022-11-09T23:21:00.000Z  15770.79    NaN              NaN\n",
       "1   2022-11-09T23:22:00.000Z  15684.37    NaN              NaN\n",
       "2   2022-11-09T23:23:00.000Z  15692.79    NaN              NaN\n",
       "3   2022-11-09T23:24:00.000Z  15672.37    NaN              NaN\n",
       "4   2022-11-09T23:25:00.000Z  15685.05    NaN              NaN\n",
       "5   2022-11-09T23:26:00.000Z  15696.29    NaN              NaN\n",
       "6   2022-11-09T23:27:00.000Z  15669.64    NaN              NaN\n",
       "7   2022-11-09T23:28:00.000Z  15665.81    NaN              NaN\n",
       "8   2022-11-09T23:29:00.000Z  15662.92    NaN              NaN\n",
       "9   2022-11-09T23:30:00.000Z  15701.41    NaN              NaN\n",
       "10  2022-11-09T23:31:00.000Z  15713.72    NaN              NaN\n",
       "11  2022-11-09T23:32:00.000Z  15690.84    NaN              NaN\n",
       "12  2022-11-09T23:33:00.000Z  15688.48    NaN              NaN\n",
       "13  2022-11-09T23:34:00.000Z  15674.89    NaN              NaN\n",
       "14  2022-11-09T23:35:00.000Z  15674.25    NaN              NaN\n",
       "15  2022-11-09T23:36:00.000Z  15656.99    NaN              NaN\n",
       "16  2022-11-09T23:37:00.000Z  15646.23    NaN              NaN\n",
       "17  2022-11-09T23:38:00.000Z  15649.50    NaN              NaN\n",
       "18  2022-11-09T23:39:00.000Z  15702.94    NaN              NaN\n",
       "19  2022-11-09T23:40:00.000Z  15722.71    NaN              NaN\n",
       "20  2022-11-09T23:42:00.000Z  15777.06    NaN              NaN\n",
       "21  2022-11-09T23:43:00.000Z  15800.00    NaN              NaN\n",
       "22  2022-11-09T23:44:00.000Z  15799.30    NaN              NaN\n",
       "23  2022-11-09T23:45:00.000Z  15819.64    NaN              NaN\n",
       "24  2022-11-09T23:46:00.000Z  15846.88    NaN              NaN\n",
       "25  2022-11-09T23:47:00.000Z  15789.48    NaN              NaN\n",
       "26  2022-11-09T23:48:00.000Z  15788.83    NaN              NaN\n",
       "27  2022-11-09T23:49:00.000Z  15853.84    NaN              NaN\n",
       "28  2022-11-09T23:50:00.000Z  15887.80    NaN              NaN\n",
       "29  2022-11-09T23:51:00.000Z  15853.58    NaN              NaN\n",
       "30  2022-11-09T23:52:00.000Z  15879.73    NaN              NaN\n",
       "31  2022-11-09T23:53:00.000Z  15829.15    NaN              NaN\n",
       "32  2022-11-09T23:54:00.000Z  15787.85    NaN              NaN\n",
       "33  2022-11-09T23:55:00.000Z  15815.01    NaN              NaN\n",
       "34  2022-11-09T23:56:00.000Z  15898.57    NaN              NaN\n",
       "35  2022-11-09T23:57:00.000Z  15915.89    NaN              NaN\n",
       "36  2022-11-09T23:58:00.000Z  15881.18    NaN              NaN\n",
       "37  2022-11-09T23:59:00.000Z  15890.39    NaN              NaN\n",
       "38  2022-11-10T00:00:00.000Z  15886.02    NaN              NaN\n",
       "39  2022-11-10T00:01:00.000Z  15906.42    NaN              NaN\n",
       "40  2022-11-09T23:21:00.000Z  15792.30    NaN              NaN\n",
       "41  2022-11-09T23:22:00.000Z  15703.20    NaN              NaN\n",
       "42  2022-11-09T23:23:00.000Z  15714.80    NaN              NaN\n",
       "43  2022-11-09T23:24:00.000Z  15675.90    NaN              NaN\n",
       "44  2022-11-09T23:25:00.000Z  15696.50    NaN              NaN\n",
       "45  2022-11-09T23:26:00.000Z  15693.50    NaN              NaN\n",
       "46  2022-11-09T23:27:00.000Z  15676.40    NaN              NaN\n",
       "47  2022-11-09T23:28:00.000Z  15672.10    NaN              NaN\n",
       "48  2022-11-09T23:29:00.000Z  15669.60    NaN              NaN\n",
       "49  2022-11-09T23:30:00.000Z  15707.20    NaN              NaN\n",
       "50  2022-11-09T23:31:00.000Z  15720.50    NaN              NaN\n",
       "51  2022-11-09T23:32:00.000Z  15690.40    NaN              NaN\n",
       "52  2022-11-09T23:33:00.000Z  15698.90    NaN              NaN\n",
       "53  2022-11-09T23:34:00.000Z  15676.90    NaN              NaN\n",
       "54  2022-11-09T23:35:00.000Z  15674.70    NaN              NaN\n",
       "55  2022-11-09T23:36:00.000Z  15668.70    NaN              NaN\n",
       "56  2022-11-09T23:37:00.000Z  15651.90    NaN              NaN\n",
       "57  2022-11-09T23:38:00.000Z  15656.20    NaN              NaN\n",
       "58  2022-11-09T23:39:00.000Z  15709.30    NaN              NaN\n",
       "59  2022-11-09T23:40:00.000Z  15738.00    NaN              NaN"
      ]
     },
     "execution_count": 50,
     "metadata": {},
     "output_type": "execute_result"
    }
   ],
   "source": [
    "verifavance3(date_closec1,closec1)"
   ]
  },
  {
   "cell_type": "code",
   "execution_count": 54,
   "metadata": {},
   "outputs": [
    {
     "name": "stderr",
     "output_type": "stream",
     "text": [
      "<ipython-input-54-3e261c673336>:3: RuntimeWarning:\n",
      "\n",
      "Degrees of freedom <= 0 for slice\n",
      "\n",
      "C:\\Users\\frida\\Anaconda3\\lib\\site-packages\\numpy\\lib\\function_base.py:2704: RuntimeWarning:\n",
      "\n",
      "divide by zero encountered in divide\n",
      "\n",
      "C:\\Users\\frida\\Anaconda3\\lib\\site-packages\\numpy\\lib\\function_base.py:2704: RuntimeWarning:\n",
      "\n",
      "invalid value encountered in multiply\n",
      "\n"
     ]
    },
    {
     "data": {
      "text/plain": [
       "array([[nan, nan],\n",
       "       [nan, nan]])"
      ]
     },
     "execution_count": 54,
     "metadata": {},
     "output_type": "execute_result"
    }
   ],
   "source": [
    "closes=closec1\n",
    "delta=np.diff(closes)\n",
    "np.cov(delta[0+5],delta[0])"
   ]
  },
  {
   "cell_type": "code",
   "execution_count": 55,
   "metadata": {},
   "outputs": [
    {
     "data": {
      "text/plain": [
       "-26.650000000001455"
      ]
     },
     "execution_count": 55,
     "metadata": {},
     "output_type": "execute_result"
    }
   ],
   "source": [
    "np.diff(closes)[5]"
   ]
  },
  {
   "cell_type": "code",
   "execution_count": 56,
   "metadata": {},
   "outputs": [
    {
     "data": {
      "text/plain": [
       "-86.42000000000007"
      ]
     },
     "execution_count": 56,
     "metadata": {},
     "output_type": "execute_result"
    }
   ],
   "source": [
    "np.diff(closes)[0]"
   ]
  },
  {
   "cell_type": "code",
   "execution_count": null,
   "metadata": {},
   "outputs": [],
   "source": []
  }
 ],
 "metadata": {
  "kernelspec": {
   "display_name": "Python 3",
   "language": "python",
   "name": "python3"
  },
  "language_info": {
   "codemirror_mode": {
    "name": "ipython",
    "version": 3
   },
   "file_extension": ".py",
   "mimetype": "text/x-python",
   "name": "python",
   "nbconvert_exporter": "python",
   "pygments_lexer": "ipython3",
   "version": "3.7.3"
  }
 },
 "nbformat": 4,
 "nbformat_minor": 4
}
