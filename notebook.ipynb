{
 "cells": [
  {
   "cell_type": "markdown",
   "metadata": {},
   "source": [
    "<center> <img style=\"float:center ; margin: 0px 0px 15px 15px;\" src=\"https://upload.wikimedia.org/wikipedia/commons/8/84/LogodelITESO.jpg\" height=\"100px\" />"
   ]
  },
  {
   "cell_type": "markdown",
   "metadata": {},
   "source": [
    "<center><font color=#555555><font size=6> MAF1731 - Microstructure and Trading Systems </font> <br> <br>\n",
    "    \n",
    "<center><font color=#555555><font size=5> B.Eng Financial Engineering </font> <br> <br> <br> <br>\n",
    "\n",
    "<center><font color=#555555><font size=6>Frida María Hernández López - if720476</font> <br> <br>\n",
    "\n",
    "<center><font color=#555555><font size=6> Dayana Navarro Valencia - if721470</font> <br> <br>\n",
    "   \n",
    "<center> <font color= #555555> <font size = 4> November, 2022 </a> | <font color= #555555> <font size = 4> Repository: <a href='https://github.com/DayanaNavarro/Lab4_MYST'>Link</a></font>"
   ]
  },
  {
   "cell_type": "markdown",
   "metadata": {},
   "source": [
    "<hr style=\"border:0.02in solid gray\"> </hr>"
   ]
  },
  {
   "cell_type": "markdown",
   "metadata": {},
   "source": [
    "<center> <font color= #555555> <font size = 6> Microestructura del mercado </font> <br> <br> <font color= #555555> <font size = 5> Laboratorio 4  </font>"
   ]
  },
  {
   "cell_type": "markdown",
   "metadata": {},
   "source": [
    "<hr style=\"border:0.02in solid gray\"> </hr>"
   ]
  },
  {
   "cell_type": "markdown",
   "metadata": {},
   "source": [
    "<br>"
   ]
  },
  {
   "cell_type": "markdown",
   "metadata": {},
   "source": [
    "<font color= #555555> <font size = 4> Abstract </font>"
   ]
  },
  {
   "cell_type": "markdown",
   "metadata": {},
   "source": [
    "En este laboratorio sed tiene como finalidad que se utilice información del Libro de Ordenes de Criptomonedas de diversos exchanges internacionales, con el objetivo primario de visualizar y modelar la microestructura del mercado por medio del comportamiento de Libro de Ordenes y sus caracteristicas como; Matching Engine, Levels, Ask-Bid Volumnes, etc. \n",
    "\n",
    "Se identificara la microestructura de mercado para los cambios en los precios, la metodología empleada consiste en la construcción y posterior análisis de las series de tiempo utilizando los libros de órdenes obtenidos en el punto anterior de los siguientes elementos de la Microestructura de Mercado por cada asset y exchange:\n",
    "\n",
    "- Levels\n",
    "- Bid volume\n",
    "- Ask volume\n",
    "- Total volume\n",
    "- Mid price\n",
    "- VWAP\n",
    "\n",
    "Se realizaran visualizaciones y se estimará el Effective Spread de Roll con:\n",
    "\n",
    "- Time\n",
    "- Close Price\n",
    "- Spread\n",
    "\n",
    "Este es un campo de constante exploración y mayor uso en estudios empíricos de mercados específicos, direccionados a la gestión, explicación y pronóstico de inversiones en activos; a través de variables propias de la negociación local en cada mercado, tales como volatilidad, flujo de órdenes, spread bid-ask y costos de la operación. Adicionalmente se destaca la trascendencia del análisis de microestructura en periodos inferiores al intraday, como estrategia de inversión que propone una periodicidad más corta en los flujos de efectivo en el negocio aprovechando condiciones propias del mercado.\n"
   ]
  },
  {
   "cell_type": "markdown",
   "metadata": {},
   "source": [
    "<br>"
   ]
  },
  {
   "cell_type": "markdown",
   "metadata": {},
   "source": [
    "# <font color= #6B6B6B> <font size = 6> 1. Introduction </font>"
   ]
  },
  {
   "cell_type": "markdown",
   "metadata": {},
   "source": [
    "<hr style=\"border:0.02in solid gray\"> </hr>"
   ]
  },
  {
   "cell_type": "markdown",
   "metadata": {},
   "source": [
    "La microestructura de los mercados abarca las reglas, que afectan la liquidez, los precios y las ganancias,y los sistemas de traiding usados por un mercado para predecir precios y diseñar sus estrategias de traiding. Es importante que el inversor entienda como funciona el mercado para mejorar sus sistemas de traiding. El mercado tiene una dependencia de los \"market makers\" ya que los precios se ejecutan de acuerdo a ellos este es un broker en el que las operaciones de compra o venta de instrumentos financierosno se realizan directamente en el mercado sino en la mesa de operaciones del propio broker, hay \"market makers\" para divisas, para índices, para accione, etc.\n",
    "\n",
    "Los tipos de ordenes:\n",
    "\n",
    "- La orden de mercado\n",
    "- Orden limitada\n",
    "- Orden \"stop\"\n",
    "\n",
    "Los tipos de mercados que existen son:\n",
    "\n",
    "**Geográfico**\n",
    "\n",
    "- Mercado Internacional\n",
    "- Mercado Nacional\n",
    "- Mercado local\n",
    "\n",
    "**Tipo de cliente**\n",
    "\n",
    "- Mercado del consumidor\n",
    "- Mercado del productor\n",
    "- Mercado del gobierno\n",
    "\n",
    "**Tipo de recurso**\n",
    "\n",
    "- Mercado de materia prima\n",
    "- Mercado de dinero\n",
    "- Mercado fuerza de trabajo\n",
    "\n",
    "Es importante también que haya transparencia, que en el pre-traiding se puede consultar el libro de ordenes precios bid-ask, flujo de órdenes, identidad de los traders y en el post-traiding haya velocidad y disponibilidad en que se difundan los precios, volúmen y hora de trade.\n",
    "\n",
    "Un **libro de órdenes** es una lista de operaciones, ya sean electrónicas o manuales, que una bolsa utiliza para registrar el interés del mercado en un valor específico o instrumento financiero. Las acciones se cotizan normalmente en un libro de órdenes por volumen y por nivel de precios.\n",
    "\n",
    "La microestructura de mercado también es importante por las regulaciones:\n",
    "\n",
    "- Reglas de preoridades de órdenes\n",
    "- Reglas del spread\n",
    "- Reglas de listado de empresas \n",
    "- Reglas de tamaño de lote mínimo\n",
    "- Reglas de límite de precio\n",
    "- Reglas de suspensión de \"traiding\"\n",
    "\n",
    "Entre otras más, todo lo anterior hace que la microestructura de mercado facilite, regule y determine comportaminetos de los traders para que puedan implementar estrategias de traiding más eficientes.\n",
    "\n",
    "Al conocer dinámica del precio en la microestructura de mercado, se cambiará el enfoque de los precios mensuales y diarios hacia Horizontes de tiempo de minutos y segundos, el **Modelo Roll** analiza el precio de las acciones determinando que el valor fundamental de la acción representa el valor presente de los flujos de efectivo futuros que se esperan y serán duraderos, en cambio, el precio de transacción.\n",
    "\n",
    "Este modelo se implementa primero con el planteamiento de dos equaciones iniciales que componen el modelo, una\n",
    "para modelar el valor fundamental del activo financiero y otra para modelar el precio de transacción del mismo\n",
    "activo. Después se calcula la diferencia de precios, se calcula la multiplicación de las diferencias de precios y se hace el cálculo del *Var*.\n",
    "\n"
   ]
  },
  {
   "cell_type": "markdown",
   "metadata": {},
   "source": [
    "<font color= #555555> <font size = 4> Objetivo </font>"
   ]
  },
  {
   "cell_type": "markdown",
   "metadata": {},
   "source": [
    "En este laboratorio sed tiene como finalidad que se utilice información del Libro de Ordenes de Criptomonedas de diversos exchanges internacionales, con el objetivo primario de visualizar y modelar la microestructura del mercado por medio del comportamiento de Libro de Ordenes y sus caracteristicas como; Matching Engine, Levels, Ask-Bid Volumnes, etc. \n",
    "\n",
    "En este laboratoria se espera que utilicemos el libro de órdenes especificamente de 3 cripromonedas de 3 eschanges con el objetivo de poder estudiar, analizar y visualizar la micorestructura del mercado por medio del comportamiento del libro de ordenes y sus componentes:\n",
    "\n",
    "- Volumen\n",
    "- Bid-Ask\n",
    "- Spread\n",
    "- Levels\n",
    " \n",
    "Todo esto para poder estimar un Effective Spread de Roll el diferencial efectivo es la diferencia entre el precio de negociación y el punto medio del diferencial de oferta y demanda (también llamado mid-price)."
   ]
  },
  {
   "cell_type": "markdown",
   "metadata": {},
   "source": [
    "<br>"
   ]
  },
  {
   "cell_type": "markdown",
   "metadata": {},
   "source": [
    "# <font color= #6B6B6B> 2. Install/Load Packages and Depedencies </font>"
   ]
  },
  {
   "cell_type": "markdown",
   "metadata": {},
   "source": [
    "<hr style=\"border:0.02in solid gray\"> </hr>"
   ]
  },
  {
   "cell_type": "markdown",
   "metadata": {},
   "source": [
    "## <font color= #6B6B6B> 2.1 Python Packages </font> <font color= #555555>"
   ]
  },
  {
   "cell_type": "markdown",
   "metadata": {},
   "source": [
    "In order to run this notebook, it is necessary to have installed and/or have the _requirements.txt_ file with the following: "
   ]
  },
  {
   "cell_type": "markdown",
   "metadata": {},
   "source": [
    "- pandas>=1.1.1 \n",
    "- numpy>=1.19.1\n",
    "- jupyter>=1.0.0"
   ]
  },
  {
   "cell_type": "markdown",
   "metadata": {},
   "source": [
    "## <font color= #6B6B6B> 2.2 Files Dependencies </font> <font color= #555555>"
   ]
  },
  {
   "cell_type": "markdown",
   "metadata": {},
   "source": [
    "The following are the file dependencies that are needed to run this notebook:"
   ]
  },
  {
   "cell_type": "markdown",
   "metadata": {},
   "source": [
    "- files/precios.csv : Precios históricos\n",
    "- files/datos.txt : Otros datos históricos"
   ]
  },
  {
   "cell_type": "markdown",
   "metadata": {},
   "source": [
    "## <font color= #6E6E6E> 2.3 Install Packages</font>"
   ]
  },
  {
   "cell_type": "code",
   "execution_count": 1,
   "metadata": {},
   "outputs": [],
   "source": [
    "%%capture\n",
    "\n",
    "# Install all the pip packages in the requirements.txt\n",
    "import sys\n",
    "!{sys.executable} -m pip install -r requirements.txt"
   ]
  },
  {
   "cell_type": "markdown",
   "metadata": {},
   "source": [
    "<br>"
   ]
  },
  {
   "cell_type": "markdown",
   "metadata": {},
   "source": [
    "# <font color= #6B6B6B> 3. Data Description </font>"
   ]
  },
  {
   "cell_type": "markdown",
   "metadata": {},
   "source": [
    "<hr style=\"border:0.02in solid gray\"> </hr>"
   ]
  },
  {
   "cell_type": "code",
   "execution_count": 2,
   "metadata": {},
   "outputs": [],
   "source": [
    "# DELETE THIS CELL IN YOUR FILE\n",
    "\n",
    "# Here you include content from data conceptual, statistical and visual description"
   ]
  },
  {
   "cell_type": "markdown",
   "metadata": {},
   "source": [
    "<br>"
   ]
  },
  {
   "cell_type": "markdown",
   "metadata": {},
   "source": [
    "# <font color= #6B6B6B> 4. A particular Process  </font>"
   ]
  },
  {
   "cell_type": "markdown",
   "metadata": {},
   "source": [
    "<hr style=\"border:0.02in solid gray\"> </hr>"
   ]
  },
  {
   "cell_type": "code",
   "execution_count": 3,
   "metadata": {},
   "outputs": [],
   "source": [
    "# DELETE THIS CELL IN YOUR FILE\n",
    "\n",
    "# A particular process that is relevant for the work you are presenting."
   ]
  },
  {
   "cell_type": "markdown",
   "metadata": {},
   "source": [
    "<br>"
   ]
  },
  {
   "cell_type": "markdown",
   "metadata": {},
   "source": [
    "# <font color= #6B6B6B> 5. Another particular Process  </font>"
   ]
  },
  {
   "cell_type": "markdown",
   "metadata": {},
   "source": [
    "<hr style=\"border:0.02in solid gray\"> </hr>"
   ]
  },
  {
   "cell_type": "code",
   "execution_count": 4,
   "metadata": {},
   "outputs": [],
   "source": [
    "# DELETE THIS CELL IN YOUR FILE\n",
    "\n",
    "# Another particular process that is relevant for the work. Normally, you include between 2 and 5 at the most."
   ]
  },
  {
   "cell_type": "markdown",
   "metadata": {},
   "source": [
    "<br>"
   ]
  },
  {
   "cell_type": "markdown",
   "metadata": {},
   "source": [
    "# <font color= #6B6B6B> <font size = 6> 5. Results </font>"
   ]
  },
  {
   "cell_type": "markdown",
   "metadata": {},
   "source": [
    "<hr style=\"border:0.02in solid gray\"> </hr>"
   ]
  },
  {
   "cell_type": "code",
   "execution_count": 5,
   "metadata": {},
   "outputs": [],
   "source": [
    "# DELETE THIS CELL IN YOUR FILE\n",
    "\n",
    "# In here you present the general results, and also, a discussion of such results."
   ]
  },
  {
   "cell_type": "markdown",
   "metadata": {},
   "source": [
    "<br>"
   ]
  },
  {
   "cell_type": "markdown",
   "metadata": {},
   "source": [
    "## <font color= #6B6B6B> 5.1 Results of first processes </font>"
   ]
  },
  {
   "cell_type": "code",
   "execution_count": 6,
   "metadata": {},
   "outputs": [],
   "source": [
    "# DELETE THIS CELL IN YOUR FILE\n",
    "\n",
    "# Separate your results according to the main processes you are working on"
   ]
  },
  {
   "cell_type": "markdown",
   "metadata": {},
   "source": [
    "<br>"
   ]
  },
  {
   "cell_type": "markdown",
   "metadata": {},
   "source": [
    "## <font color= #6B6B6B> 5.2 Results of another proces </font>"
   ]
  },
  {
   "cell_type": "code",
   "execution_count": 7,
   "metadata": {},
   "outputs": [],
   "source": [
    "# DELETE THIS CELL IN YOUR FILE\n",
    "\n",
    "# You can have several processes with which you are obtaining the results you need."
   ]
  },
  {
   "cell_type": "markdown",
   "metadata": {},
   "source": [
    "<br>"
   ]
  },
  {
   "cell_type": "markdown",
   "metadata": {},
   "source": [
    "# <font color= #6B6B6B> <font size = 6> 6. References </font>"
   ]
  },
  {
   "cell_type": "markdown",
   "metadata": {},
   "source": [
    "<hr style=\"border:0.02in solid gray\"> </hr>"
   ]
  },
  {
   "cell_type": "markdown",
   "metadata": {},
   "source": [
    "https://www.redalyc.org/journal/290/29055767012/html/\n",
    "\n",
    "https://pypi.org/project/teatien-ccxt/\n",
    "\n"
   ]
  },
  {
   "cell_type": "code",
   "execution_count": null,
   "metadata": {},
   "outputs": [],
   "source": []
  }
 ],
 "metadata": {
  "kernelspec": {
   "display_name": "Python 3",
   "language": "python",
   "name": "python3"
  },
  "language_info": {
   "codemirror_mode": {
    "name": "ipython",
    "version": 3
   },
   "file_extension": ".py",
   "mimetype": "text/x-python",
   "name": "python",
   "nbconvert_exporter": "python",
   "pygments_lexer": "ipython3",
   "version": "3.7.3"
  }
 },
 "nbformat": 4,
 "nbformat_minor": 4
}
